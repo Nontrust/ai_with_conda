{
 "cells": [
  {
   "cell_type": "code",
   "execution_count": 1,
   "metadata": {},
   "outputs": [],
   "source": [
    "# %autosave 0\n",
    "import warnings\n",
    "warnings.filterwarnings(action='ignore')\n",
    "\n",
    "import numpy as np\n",
    "import pandas as pd\n",
    "\n",
    "from tensorflow.keras.utils import to_categorical  # one-hot 엔코딩\n",
    "from sklearn.preprocessing import LabelEncoder     # 명목형 척도 정수화 \n",
    "from tensorflow.keras.models import load_model     # model 사용"
   ]
  },
  {
   "cell_type": "code",
   "execution_count": 2,
   "metadata": {},
   "outputs": [],
   "source": [
    "model = load_model('./Iris.h5')"
   ]
  },
  {
   "cell_type": "code",
   "execution_count": 3,
   "metadata": {},
   "outputs": [
    {
     "name": "stdout",
     "output_type": "stream",
     "text": [
      "   sepal.length  sepal.width  petal.length  petal.width      species\n",
      "0           5.0          3.5           1.3          0.3  Iris-setosa\n",
      "1           4.5          2.3           1.3          0.3  Iris-setosa\n",
      "2           4.4          3.2           1.3          0.2  Iris-setosa\n",
      "3           5.0          3.5           1.6          0.6  Iris-setosa\n",
      "4           5.1          3.8           1.9          0.4  Iris-setosa\n"
     ]
    }
   ],
   "source": [
    "df = pd.read_csv('../../data/iris/iris_use.csv', header=[0])\n",
    "print(df.head())"
   ]
  },
  {
   "cell_type": "code",
   "execution_count": 4,
   "metadata": {},
   "outputs": [
    {
     "name": "stdout",
     "output_type": "stream",
     "text": [
      "<class 'numpy.ndarray'>\n",
      "30\n",
      "['Iris-setosa' 'Iris-setosa' 'Iris-setosa' 'Iris-setosa' 'Iris-setosa'\n",
      " 'Iris-setosa' 'Iris-setosa' 'Iris-setosa' 'Iris-setosa' 'Iris-setosa'\n",
      " 'Iris-versicolor' 'Iris-versicolor' 'Iris-versicolor' 'Iris-versicolor'\n",
      " 'Iris-versicolor' 'Iris-versicolor' 'Iris-versicolor' 'Iris-versicolor'\n",
      " 'Iris-versicolor' 'Iris-versicolor' 'Iris-virginica' 'Iris-virginica'\n",
      " 'Iris-virginica' 'Iris-virginica' 'Iris-virginica' 'Iris-virginica'\n",
      " 'Iris-virginica' 'Iris-virginica' 'Iris-virginica' 'Iris-virginica']\n"
     ]
    }
   ],
   "source": [
    "data = df.values\n",
    "print(type(data))\n",
    "print(len(data))\n",
    "X = data[:, 0:4].astype(float)  # 독립 변수, 정의역\n",
    "Y_str = data[:, 4]              # 종속 변수, 치역 \n",
    "print(Y_str)"
   ]
  },
  {
   "cell_type": "code",
   "execution_count": 5,
   "metadata": {},
   "outputs": [
    {
     "name": "stdout",
     "output_type": "stream",
     "text": [
      "[0 0 0 0 0 0 0 0 0 0 1 1 1 1 1 1 1 1 1 1 2 2 2 2 2 2 2 2 2 2]\n",
      "[1. 0. 0.]\n",
      "[0. 1. 0.]\n",
      "[0. 0. 1.]\n"
     ]
    }
   ],
   "source": [
    "# 문자 레이블을 숫자화, 문자열을 알파벳순으로 그룹화한후 0부터 숫자로 변환\n",
    "encoder = LabelEncoder()\n",
    "Y = encoder.fit_transform(Y_str)\n",
    "print(Y)\n",
    "\n",
    "Y_encoded = to_categorical(Y) # one-hot-encoding, 해당 index만 1로 변경\n",
    "print(Y_encoded[0])\n",
    "print(Y_encoded[10])\n",
    "print(Y_encoded[20])\n",
    "\n",
    "# LabelEncoder() 엔코더 사용시 모든 그룹의 데이터를 통합하여 진행 권장\n",
    "# CSV 훈련: A, B, C  CSV 테스트: A, B, D\n",
    "#           0  1  2              0  1  ?  \n",
    "# CSV A, B, C, D 모두 통합후 -> 엔코더 적용 -> 데이터 훈련, 테스트로 분할\n",
    "#     1  2  3  4"
   ]
  },
  {
   "cell_type": "code",
   "execution_count": 6,
   "metadata": {},
   "outputs": [
    {
     "name": "stdout",
     "output_type": "stream",
     "text": [
      "['Iris-setosa' 'Iris-versicolor' 'Iris-virginica']\n"
     ]
    }
   ],
   "source": [
    "print(encoder.inverse_transform([0, 1, 2])) # Label 확인"
   ]
  },
  {
   "cell_type": "code",
   "execution_count": 7,
   "metadata": {},
   "outputs": [
    {
     "name": "stdout",
     "output_type": "stream",
     "text": [
      "1/1 [==============================] - 0s 96ms/step\n",
      "p.shape: (30, 3)\n",
      "데이터: [5.  3.5 1.3 0.3]\n"
     ]
    }
   ],
   "source": [
    "# Iris-setosa: 0, Iris-versicolor: 1, Iris-virginica: 2\n",
    "p = model.predict(X)  # 테스트 데이터 30건\n",
    "print('p.shape:', p.shape)\n",
    "print('데이터:', X[0]) # 첫번째 데이터행"
   ]
  },
  {
   "cell_type": "code",
   "execution_count": 8,
   "metadata": {},
   "outputs": [
    {
     "name": "stdout",
     "output_type": "stream",
     "text": [
      "예측값: [0.4704605  0.32327145 0.20626804]\n",
      "예측값: 47.05% 32.33% 20.63%\n",
      "LabelEncoder:  0\n",
      "One-hot-encoding:  [1. 0. 0.]\n",
      "0\n",
      "Iris-setosa\n"
     ]
    }
   ],
   "source": [
    "# 확률 0 ~ 1사이의 실수값\n",
    "print('예측값:', p[0]) \n",
    "print('예측값: {0:.2f}% {1:.2f}% {2:.2f}%'.format((p[0][0]*100), (p[0][1]*100), (p[0][2]*100))) \n",
    "print('LabelEncoder: ', Y[0])\n",
    "print('One-hot-encoding: ', Y_encoded[0])\n",
    "print(np.argmax(p[0]))  # 가장 큰값의 index\n",
    "print(Y_str[0])         # 첫번째 품종"
   ]
  },
  {
   "cell_type": "code",
   "execution_count": 9,
   "metadata": {},
   "outputs": [
    {
     "name": "stdout",
     "output_type": "stream",
     "text": [
      "[0.4704605  0.32327145 0.20626804]\n",
      "최대값: 0.4704605 -> index: 0\n",
      "[0.43805328 0.34259284 0.21935396]\n",
      "최대값: 0.43805328 -> index: 0\n",
      "[0.4704605  0.32327145 0.20626804]\n",
      "최대값: 0.4704605 -> index: 0\n",
      "[0.4704605  0.32327145 0.20626804]\n",
      "최대값: 0.4704605 -> index: 0\n",
      "[0.4704605  0.32327145 0.20626804]\n",
      "최대값: 0.4704605 -> index: 0\n",
      "[0.4704605  0.32327145 0.20626804]\n",
      "최대값: 0.4704605 -> index: 0\n",
      "[0.4704605  0.32327145 0.20626804]\n",
      "최대값: 0.4704605 -> index: 0\n",
      "[0.4704605  0.32327145 0.20626804]\n",
      "최대값: 0.4704605 -> index: 0\n",
      "[0.4704605  0.32327145 0.20626804]\n",
      "최대값: 0.4704605 -> index: 0\n",
      "[0.4704605  0.32327145 0.20626804]\n",
      "최대값: 0.4704605 -> index: 0\n",
      "[0.02899355 0.571861   0.3991454 ]\n",
      "최대값: 0.571861 -> index: 1\n",
      "[0.03518805 0.56944776 0.39536414]\n",
      "최대값: 0.56944776 -> index: 1\n",
      "[0.02293045 0.5701026  0.406967  ]\n",
      "최대값: 0.5701026 -> index: 1\n",
      "[0.03738485 0.5177055  0.44490966]\n",
      "최대값: 0.5177055 -> index: 1\n",
      "[0.02399477 0.5362787  0.4397265 ]\n",
      "최대값: 0.5362787 -> index: 1\n",
      "[0.03837029 0.54091406 0.42071566]\n",
      "최대값: 0.54091406 -> index: 1\n",
      "[0.03163068 0.5642007  0.40416858]\n",
      "최대값: 0.5642007 -> index: 1\n",
      "[0.09309509 0.54125774 0.36564723]\n",
      "최대값: 0.54125774 -> index: 1\n",
      "[0.03083309 0.571171   0.39799586]\n",
      "최대값: 0.571171 -> index: 1\n",
      "[0.05301544 0.54710674 0.39987788]\n",
      "최대값: 0.54710674 -> index: 1\n",
      "[0.00334995 0.19217865 0.80447143]\n",
      "최대값: 0.80447143 -> index: 2\n",
      "[0.00983193 0.30333653 0.6868315 ]\n",
      "최대값: 0.6868315 -> index: 2\n",
      "[0.00413861 0.276962   0.71889937]\n",
      "최대값: 0.71889937 -> index: 2\n",
      "[0.00837195 0.3195786  0.6720495 ]\n",
      "최대값: 0.6720495 -> index: 2\n",
      "[0.0041915  0.23583637 0.7599721 ]\n",
      "최대값: 0.7599721 -> index: 2\n",
      "[0.00239308 0.23520617 0.76240075]\n",
      "최대값: 0.76240075 -> index: 2\n",
      "[0.0204165  0.34288824 0.63669527]\n",
      "최대값: 0.63669527 -> index: 2\n",
      "[0.00446287 0.30094233 0.69459486]\n",
      "최대값: 0.69459486 -> index: 2\n",
      "[0.00528387 0.27847663 0.7162395 ]\n",
      "최대값: 0.7162395 -> index: 2\n",
      "[0.00353916 0.25810754 0.7383533 ]\n",
      "최대값: 0.7383533 -> index: 2\n"
     ]
    }
   ],
   "source": [
    "for item in p: # 2차원 배열에서 1행씩 산출\n",
    "    print(item)\n",
    "    print('최대값:', np.max(item), '-> index:', np.argmax(item))\n",
    "    # 최대값 -> 최대값이 있는 index"
   ]
  },
  {
   "cell_type": "code",
   "execution_count": 10,
   "metadata": {},
   "outputs": [
    {
     "name": "stdout",
     "output_type": "stream",
     "text": [
      "[0.4704605  0.32327145 0.20626804]  합계: 1\n",
      "[0.43805328 0.34259284 0.21935396]  합계: 1\n",
      "[0.4704605  0.32327145 0.20626804]  합계: 1\n",
      "[0.4704605  0.32327145 0.20626804]  합계: 1\n",
      "[0.4704605  0.32327145 0.20626804]  합계: 1\n",
      "[0.4704605  0.32327145 0.20626804]  합계: 1\n",
      "[0.4704605  0.32327145 0.20626804]  합계: 1\n",
      "[0.4704605  0.32327145 0.20626804]  합계: 1\n",
      "[0.4704605  0.32327145 0.20626804]  합계: 1\n",
      "[0.4704605  0.32327145 0.20626804]  합계: 1\n",
      "[0.02899355 0.571861   0.3991454 ]  합계: 1\n",
      "[0.03518805 0.56944776 0.39536414]  합계: 1\n",
      "[0.02293045 0.5701026  0.406967  ]  합계: 1\n",
      "[0.03738485 0.5177055  0.44490966]  합계: 1\n",
      "[0.02399477 0.5362787  0.4397265 ]  합계: 1\n",
      "[0.03837029 0.54091406 0.42071566]  합계: 1\n",
      "[0.03163068 0.5642007  0.40416858]  합계: 1\n",
      "[0.09309509 0.54125774 0.36564723]  합계: 1\n",
      "[0.03083309 0.571171   0.39799586]  합계: 1\n",
      "[0.05301544 0.54710674 0.39987788]  합계: 1\n",
      "[0.00334995 0.19217865 0.80447143]  합계: 1\n",
      "[0.00983193 0.30333653 0.6868315 ]  합계: 1\n",
      "[0.00413861 0.276962   0.71889937]  합계: 1\n",
      "[0.00837195 0.3195786  0.6720495 ]  합계: 1\n",
      "[0.0041915  0.23583637 0.7599721 ]  합계: 1\n",
      "[0.00239308 0.23520617 0.76240075]  합계: 1\n",
      "[0.0204165  0.34288824 0.63669527]  합계: 1\n",
      "[0.00446287 0.30094233 0.69459486]  합계: 1\n",
      "[0.00528387 0.27847663 0.7162395 ]  합계: 1\n",
      "[0.00353916 0.25810754 0.7383533 ]  합계: 1\n"
     ]
    }
   ],
   "source": [
    "# softmax 함수의 값이 1이되는지 확인\n",
    "# 컴퓨터는 내부적으로 정수 연산이라 미세한 오차 발생\n",
    "for item in p:\n",
    "    print(item, ' 합계: {0:0.0f}'.format(np.sum(item)))"
   ]
  },
  {
   "cell_type": "code",
   "execution_count": 11,
   "metadata": {},
   "outputs": [],
   "source": [
    "# Iris-setosa: 0, Iris-versicolor: 1, Iris-virginica: 2\n",
    "def decode(data):  # data: 1차원 배열, predict는 2차원 배열을 리턴함\n",
    "    index = np.argmax(data) # 최대값의 index를 찾아줌\n",
    "    if index == 0:\n",
    "        label = 'Iris-setosa'\n",
    "    elif index == 1:\n",
    "        label = 'Iris-versicolor'\n",
    "    elif index == 2:\n",
    "        label = 'Iris-virginica'\n",
    "        \n",
    "    return label"
   ]
  },
  {
   "cell_type": "code",
   "execution_count": 12,
   "metadata": {},
   "outputs": [
    {
     "name": "stdout",
     "output_type": "stream",
     "text": [
      "30\n",
      "Target(실제값): Iris-setosa  Y hat(예측값): Iris-setosa\n",
      "Target(실제값): Iris-setosa  Y hat(예측값): Iris-setosa\n",
      "Target(실제값): Iris-setosa  Y hat(예측값): Iris-setosa\n",
      "Target(실제값): Iris-setosa  Y hat(예측값): Iris-setosa\n",
      "Target(실제값): Iris-setosa  Y hat(예측값): Iris-setosa\n",
      "Target(실제값): Iris-setosa  Y hat(예측값): Iris-setosa\n",
      "Target(실제값): Iris-setosa  Y hat(예측값): Iris-setosa\n",
      "Target(실제값): Iris-setosa  Y hat(예측값): Iris-setosa\n",
      "Target(실제값): Iris-setosa  Y hat(예측값): Iris-setosa\n",
      "Target(실제값): Iris-setosa  Y hat(예측값): Iris-setosa\n",
      "Target(실제값): Iris-versicolor  Y hat(예측값): Iris-versicolor\n",
      "Target(실제값): Iris-versicolor  Y hat(예측값): Iris-versicolor\n",
      "Target(실제값): Iris-versicolor  Y hat(예측값): Iris-versicolor\n",
      "Target(실제값): Iris-versicolor  Y hat(예측값): Iris-versicolor\n",
      "Target(실제값): Iris-versicolor  Y hat(예측값): Iris-versicolor\n",
      "Target(실제값): Iris-versicolor  Y hat(예측값): Iris-versicolor\n",
      "Target(실제값): Iris-versicolor  Y hat(예측값): Iris-versicolor\n",
      "Target(실제값): Iris-versicolor  Y hat(예측값): Iris-versicolor\n",
      "Target(실제값): Iris-versicolor  Y hat(예측값): Iris-versicolor\n",
      "Target(실제값): Iris-versicolor  Y hat(예측값): Iris-versicolor\n",
      "Target(실제값): Iris-virginica  Y hat(예측값): Iris-virginica\n",
      "Target(실제값): Iris-virginica  Y hat(예측값): Iris-virginica\n",
      "Target(실제값): Iris-virginica  Y hat(예측값): Iris-virginica\n",
      "Target(실제값): Iris-virginica  Y hat(예측값): Iris-virginica\n",
      "Target(실제값): Iris-virginica  Y hat(예측값): Iris-virginica\n",
      "Target(실제값): Iris-virginica  Y hat(예측값): Iris-virginica\n",
      "Target(실제값): Iris-virginica  Y hat(예측값): Iris-virginica\n",
      "Target(실제값): Iris-virginica  Y hat(예측값): Iris-virginica\n",
      "Target(실제값): Iris-virginica  Y hat(예측값): Iris-virginica\n",
      "Target(실제값): Iris-virginica  Y hat(예측값): Iris-virginica\n"
     ]
    }
   ],
   "source": [
    "print(len(p))\n",
    "for i in range(len(p)):\n",
    "    print('Target(실제값):', Y_str[i], ' Y hat(예측값):', decode(p[i]))"
   ]
  },
  {
   "cell_type": "code",
   "execution_count": 13,
   "metadata": {},
   "outputs": [
    {
     "name": "stdout",
     "output_type": "stream",
     "text": [
      "<class 'str'>\n",
      "\n"
     ]
    }
   ],
   "source": [
    "# input 함수의 사용\n",
    "# 5.1,3.5,1.4,0.2\n",
    "src = input('꽃받침 길이, 꽃받침 넓이, 꽃잎 길이, 꽃잎 넓이를 입력하세요.')\n",
    "print(type(src))\n",
    "print(src)"
   ]
  },
  {
   "cell_type": "code",
   "execution_count": 16,
   "metadata": {},
   "outputs": [
    {
     "name": "stdout",
     "output_type": "stream",
     "text": [
      "(4,)\n",
      "[5.1 3.5 1.4 0.2]\n"
     ]
    }
   ],
   "source": [
    "data = np.array(src.split(','), dtype=float) # 1차원 텐서\n",
    "print(data.shape)\n",
    "print(data)"
   ]
  },
  {
   "cell_type": "code",
   "execution_count": 17,
   "metadata": {},
   "outputs": [
    {
     "name": "stdout",
     "output_type": "stream",
     "text": [
      "(1, 4)\n",
      "[[5.1 3.5 1.4 0.2]]\n",
      "p: [[0.95041513 0.00509432 0.04449051]]\n",
      "예측값: Iris-setosa\n"
     ]
    }
   ],
   "source": [
    "X = np.array([data])  # 2차원 텐서(배열)로 변환\n",
    "print(X.shape)\n",
    "print(X)\n",
    "p = model.predict(X)  # 2차원 배열 대입\n",
    "print('p:', p)\n",
    "\n",
    "for i in range(len(p)):\n",
    "    print('예측값:', decode(p[i])) # [[0.6227252  0.23900516 0.13826966]]"
   ]
  },
  {
   "cell_type": "code",
   "execution_count": null,
   "metadata": {},
   "outputs": [],
   "source": []
  },
  {
   "cell_type": "code",
   "execution_count": null,
   "metadata": {},
   "outputs": [],
   "source": []
  }
 ],
 "metadata": {
  "kernelspec": {
   "display_name": "ai",
   "language": "python",
   "name": "python3"
  },
  "language_info": {
   "codemirror_mode": {
    "name": "ipython",
    "version": 3
   },
   "file_extension": ".py",
   "mimetype": "text/x-python",
   "name": "python",
   "nbconvert_exporter": "python",
   "pygments_lexer": "ipython3",
   "version": "3.10.13"
  }
 },
 "nbformat": 4,
 "nbformat_minor": 2
}
