{
 "cells": [
  {
   "cell_type": "markdown",
   "metadata": {
    "id": "1uo6n0uDLQzW"
   },
   "source": [
    "### Overfit 개선을 위한 L1, L2 규제의 적용"
   ]
  },
  {
   "cell_type": "code",
   "execution_count": null,
   "metadata": {
    "colab": {
     "base_uri": "https://localhost:8080/"
    },
    "executionInfo": {
     "elapsed": 21444,
     "status": "ok",
     "timestamp": 1660959740884,
     "user": {
      "displayName": "강사엄기흥",
      "userId": "12410353940363031053"
     },
     "user_tz": -540
    },
    "id": "QEDLtb1ILmey",
    "outputId": "7c8941a2-b492-4c64-c5d7-e23566bec09a"
   },
   "outputs": [
    {
     "name": "stdout",
     "output_type": "stream",
     "text": [
      "Mounted at /content/drive\n"
     ]
    }
   ],
   "source": [
    "# from google.colab import drive\n",
    "# drive.mount('/content/drive')"
   ]
  },
  {
   "cell_type": "code",
   "execution_count": 2,
   "metadata": {
    "id": "l_s-RfiBLQzc"
   },
   "outputs": [],
   "source": [
    "import warnings\n",
    "warnings.filterwarnings(action='ignore')\n",
    "\n",
    "import os\n",
    "import time\n",
    "# import cv2\n",
    "import random\n",
    "\n",
    "import numpy as np\n",
    "import pandas as pd\n",
    "import seaborn as sb\n",
    "import tensorflow as tf\n",
    "\n",
    "from tensorflow.keras.models import Sequential  # class\n",
    "from tensorflow.keras.models import load_model  # model 사용\n",
    "from tensorflow.keras.layers import Dense       # 전결합\n",
    "from tensorflow.keras.layers import Dropout     # 특정 node를 사용안함.\n",
    "from tensorflow.keras.layers import Conv2D\n",
    "from tensorflow.keras.layers import MaxPooling2D\n",
    "from tensorflow.keras.layers import Flatten\n",
    "\n",
    "from tensorflow.keras.callbacks import EarlyStopping   # 학습 자동 중지\n",
    "from tensorflow.keras.callbacks import ModelCheckpoint # 우수한 학습 모델 파일 저장\n",
    "from tensorflow.keras import regularizers \n",
    "from tensorflow.keras.utils import to_categorical   # one-hot 엔코딩\n",
    "from tensorflow.keras.optimizers import Adam\n",
    "\n",
    "from tensorflow.keras.datasets import mnist\n",
    "\n",
    "from sklearn.preprocessing import LabelEncoder\n",
    "from sklearn.preprocessing import StandardScaler\n",
    "from sklearn.model_selection import train_test_split # 학습셋과 테스트셋의 분리 지원\n",
    "from sklearn.model_selection import StratifiedKFold  # K겹 교차 검증\n",
    "from sklearn.metrics import confusion_matrix\n",
    "from sklearn.metrics import roc_curve\n",
    "\n",
    "from PIL import Image\n",
    "\n",
    "import matplotlib.pyplot as plt\n",
    "import seaborn as sns\n",
    "from matplotlib import font_manager, rc\n",
    "\n",
    "import platform \n",
    "# Windows, Linux, Darwin\n",
    "if (platform.system() == 'Windows'):  \n",
    "    rc('font', family=font_manager.FontProperties(fname=\"C:/Windows/Fonts/malgun.ttf\").get_name())\n",
    "    path = '.' # Local\n",
    "else:    \n",
    "    rc('font', family='NanumBarunGothic')  # Ubuntu 18.04 기준 한글 처리\n",
    "    path = '/content/drive/My Drive/kd_ml/dnn/survival' # Colab\n",
    "\n",
    "os.chdir(path) # 기본 경로 설정\n",
    "\n",
    "plt.rcParams[\"font.size\"] = 12         # 글자 크기\n",
    "plt.rcParams[\"figure.figsize\"] = (6, 3) # 10:4의 그래프 비율\n",
    "plt.rcParams['axes.unicode_minus'] = False  # minus 부호는 unicode 적용시 한글이 깨짐으로 설정\n",
    "\n",
    "%matplotlib inline\n",
    "\n",
    "# ---------------------------------------------------------------------\n",
    "# gpu 사용시 런타임에서 필요한 양만큼의 GPU 메모리를 할당후 자동 증가 처리\n",
    "# OS 메모리도 초기화됨.\n",
    "# ---------------------------------------------------------------------\n",
    "import tensorflow as tf\n",
    "\n",
    "gpus = tf.config.experimental.list_physical_devices('GPU')\n",
    "if gpus:\n",
    "    try:\n",
    "        tf.config.experimental.set_memory_growth(gpus[0], True)\n",
    "    except RuntimeError as e:\n",
    "        # 프로그램 시작시에 메모리 증가가 설정되어야만 합니다\n",
    "        print(e)\n",
    "    \n",
    "# ---------------------------------------------------------------------"
   ]
  },
  {
   "cell_type": "code",
   "execution_count": 10,
   "metadata": {
    "colab": {
     "base_uri": "https://localhost:8080/"
    },
    "executionInfo": {
     "elapsed": 467,
     "status": "ok",
     "timestamp": 1660959746337,
     "user": {
      "displayName": "강사엄기흥",
      "userId": "12410353940363031053"
     },
     "user_tz": -540
    },
    "id": "7-ynqdswLQzf",
    "outputId": "7699a326-d6bc-41d7-a189-4b6a6852ef11"
   },
   "outputs": [
    {
     "name": "stdout",
     "output_type": "stream",
     "text": [
      "<class 'numpy.ndarray'>\n",
      "(470, 18)\n"
     ]
    }
   ],
   "source": [
    "data = np.loadtxt('../../../data/survival/survival.csv', delimiter=\",\", dtype=np.float64)\n",
    "print(type(data))\n",
    "print(data.shape)"
   ]
  },
  {
   "cell_type": "code",
   "execution_count": 11,
   "metadata": {
    "colab": {
     "base_uri": "https://localhost:8080/"
    },
    "executionInfo": {
     "elapsed": 16,
     "status": "ok",
     "timestamp": 1660959746338,
     "user": {
      "displayName": "강사엄기흥",
      "userId": "12410353940363031053"
     },
     "user_tz": -540
    },
    "id": "CwTd2FtzLQzh",
    "outputId": "70ed6b04-9e12-48f3-a67a-064c8488f2ba"
   },
   "outputs": [
    {
     "name": "stdout",
     "output_type": "stream",
     "text": [
      "(470, 17)\n",
      "(470,)\n"
     ]
    }
   ],
   "source": [
    "X = data[:, 0:17] # 0 ~ 16: 17개\n",
    "print(X.shape)\n",
    "Y = data[:, 17]   # 17: 1개\n",
    "print(Y.shape)"
   ]
  },
  {
   "cell_type": "code",
   "execution_count": 13,
   "metadata": {
    "colab": {
     "base_uri": "https://localhost:8080/"
    },
    "executionInfo": {
     "elapsed": 13,
     "status": "ok",
     "timestamp": 1660959746338,
     "user": {
      "displayName": "강사엄기흥",
      "userId": "12410353940363031053"
     },
     "user_tz": -540
    },
    "id": "v5Bf5025LQzi",
    "outputId": "3f070dbc-dec7-41b1-efff-94cf449ea89c"
   },
   "outputs": [
    {
     "name": "stdout",
     "output_type": "stream",
     "text": [
      "[0. 0. 0. 1. 0. 0. 0. 0. 0. 0. 0. 1. 0. 0. 0. 0. 0. 0. 0. 1. 0. 0. 0. 0.\n",
      " 0. 0. 0. 0. 0. 1. 0. 1. 0. 0. 0. 0. 0. 0. 0. 0. 1. 0. 0.]\n",
      "(43,)\n"
     ]
    }
   ],
   "source": [
    "# train_test_split 분할을 통한 훈련, 검증, 테스트 데이터의 분리\n",
    "seed = 0\n",
    "# 90%: 분할대기(x_train_all), 10%: 테스트(x_test)\n",
    "x_train_all, x_test, y_train_all, y_test = train_test_split(X, Y,\n",
    "                                                          stratify=Y,\n",
    "                                                          test_size=0.1,\n",
    "                                                          random_state=seed)\n",
    "# 약한 Overfit\n",
    "# 나머지 데이터 90%를 분할, 70%: 훈련(x_train), 30%: 검증(x_val)\n",
    "\n",
    "# 강한 Overfit\n",
    "# 나머지 데이터 90%를 분할, 90%: 훈련(x_train), 10%: 검증(x_val)\n",
    "x_train, x_val, y_train, y_val = train_test_split(x_train_all, y_train_all,\n",
    "                                                  stratify=y_train_all,\n",
    "                                                  test_size=0.1,\n",
    "                                                  random_state=seed)\n",
    "\n",
    "print(y_val[0:100])\n",
    "print(y_val.shape)"
   ]
  },
  {
   "cell_type": "code",
   "execution_count": 14,
   "metadata": {
    "id": "GOxeaxBbLQzj"
   },
   "outputs": [],
   "source": [
    "def l1l2():\n",
    "    SEED = 0\n",
    "    os.environ['PYTHONHASHSEED'] = str(SEED)\n",
    "    os.environ['TF_DETERMINISTIC_OPS'] = '1'\n",
    "\n",
    "    tf.random.set_seed(SEED) # Global seed\n",
    "    np.random.seed(SEED)\n",
    "    random.seed(SEED)\n",
    "    \n",
    "    model = Sequential()\n",
    "    # model.add(Dense(128, input_dim=17, activation='linear')) \n",
    "    model.add(Dense(128, input_shape=(17, ), activation='relu',\n",
    "              kernel_regularizer=regularizers.l1_l2(l1=0.0001, l2=0.0001))) \n",
    "    model.add(Dense(64, activation='relu',\n",
    "              kernel_regularizer=regularizers.l1_l2(l1=0.0001, l2=0.0001)))\n",
    "    model.add(Dense(32, activation='relu'))\n",
    "    model.add(Dense(15, activation='relu'))\n",
    "    model.add(Dense(1, activation='sigmoid')) # 출력층, 입력: 15, 출력 1\n",
    "\n",
    "    model.compile(optimizer='adam', loss='binary_crossentropy',\n",
    "                  metrics=['accuracy'])\n",
    "    model.summary()\n",
    "\n",
    "    # 오차가 14번 증가되면 종료, Overfit 발생을위해 과도한 학습 진행\n",
    "    es = EarlyStopping(monitor='loss', patience=14, restore_best_weights=True)\n",
    "\n",
    "    # 학습\n",
    "    hist = model.fit(x_train, y_train, validation_data=(x_val, y_val),\n",
    "                     epochs=1000, \n",
    "                     batch_size=2, callbacks=[es])\n",
    "    \n",
    "    fig, loss_ax = plt.subplots()\n",
    "    # plt.figure(figsize=(6,4)) # ERROR\n",
    "    fig.set_size_inches(10, 5)  # 챠트 크기 설정\n",
    "\n",
    "    acc_ax = loss_ax.twinx()  # 오른쪽 y 출 설정\n",
    "\n",
    "    # 왼쪽 y 축 설정\n",
    "    loss_ax.plot(hist.history['loss'], 'y', label='train loss')\n",
    "    loss_ax.plot(hist.history['val_loss'], 'r', label='val loss')\n",
    "    loss_ax.set_ylim([0.0, 1.0229]) # 값을 반영하여 변경\n",
    "\n",
    "    # 오른쪽 y 축 설정\n",
    "    acc_ax.plot(hist.history['accuracy'], 'b', label='train accuracy')\n",
    "    acc_ax.plot(hist.history['val_accuracy'], 'g', label='val accuracy')\n",
    "    acc_ax.set_ylim([0.0, 1]) # 0.0, 1: 0 ~ 100 %, 정확도임으로 변경하지 않음\n",
    "\n",
    "    # 축 레이블 설정\n",
    "    loss_ax.set_xlabel('epoch')  # 학습 횟수\n",
    "    loss_ax.set_ylabel('loss')   # 오차\n",
    "    acc_ax.set_ylabel('accuracy') # 정확도\n",
    "\n",
    "    loss_ax.legend(loc='upper left') # 오차 레이블 위치\n",
    "    acc_ax.legend(loc='lower left')  # 정확도 레이블 위치\n",
    "\n",
    "    plt.show()\n",
    "    \n",
    "    test_loss, test_acc = model.evaluate(x_test, y_test, batch_size=1, verbose=0)\n",
    "    print('손실값:', test_loss, '/정확도:', (test_acc*100), '%')\n",
    "    \n",
    "    return model, hist"
   ]
  },
  {
   "cell_type": "markdown",
   "metadata": {
    "id": "OJDrFUP2LQzl"
   },
   "source": [
    "### Dropout 사용의 경우"
   ]
  },
  {
   "cell_type": "code",
   "execution_count": 15,
   "metadata": {
    "id": "mKKzLXMlLQzm"
   },
   "outputs": [],
   "source": [
    "# Dropout 사용의 경우\n",
    "def dropout_use():\n",
    "    SEED = 0\n",
    "    os.environ['PYTHONHASHSEED'] = str(SEED)\n",
    "    os.environ['TF_DETERMINISTIC_OPS'] = '1'\n",
    "\n",
    "    tf.random.set_seed(SEED) # Global seed\n",
    "    np.random.seed(SEED)\n",
    "    random.seed(SEED)\n",
    "    \n",
    "    model = Sequential()\n",
    "    # model.add(Dense(128, input_dim=17, activation='linear')) # 첫번째 은닉층\n",
    "    model.add(Dense(128, input_shape=(17, ), activation='relu')) # 첫번째 은닉층\n",
    "    model.add(Dropout(0.2)) # 20% 비활성화, Node의 값을 0으로 변경\n",
    "\n",
    "    model.add(Dense(64, activation='relu'))\n",
    "    model.add(Dropout(0.2)) # 20% 비활성화, Node의 값을 0으로 변경\n",
    "\n",
    "    model.add(Dense(32, activation='relu'))\n",
    "    model.add(Dense(15, activation='relu'))\n",
    "    model.add(Dense(1, activation='sigmoid')) # 출력층, 입력: 15, 출력 1\n",
    "\n",
    "    model.compile(optimizer='adam', loss='binary_crossentropy',\n",
    "                  metrics=['accuracy'])\n",
    "    model.summary()\n",
    "\n",
    "    # 오차가 14번 증가되면 종료, Overfit 발생을위해 과도한 학습 진행\n",
    "    es = EarlyStopping(monitor='loss', patience=14, restore_best_weights=True)\n",
    "\n",
    "    # 학습\n",
    "    hist = model.fit(x_train, y_train, validation_data=(x_val, y_val),\n",
    "                     epochs=1000, \n",
    "                     batch_size=2, callbacks=[es])\n",
    "    \n",
    "    fig, loss_ax = plt.subplots()\n",
    "    # plt.figure(figsize=(6,4)) # ERROR\n",
    "    fig.set_size_inches(10, 5)  # 챠트 크기 설정\n",
    "\n",
    "    acc_ax = loss_ax.twinx()  # 오른쪽 y 출 설정\n",
    "\n",
    "    # 왼쪽 y 축 설정\n",
    "    loss_ax.plot(hist.history['loss'], 'y', label='train loss')\n",
    "    loss_ax.plot(hist.history['val_loss'], 'r', label='val loss')\n",
    "    loss_ax.set_ylim([0.0, 1.0229]) # 값을 반영하여 변경\n",
    "\n",
    "    # 오른쪽 y 축 설정\n",
    "    acc_ax.plot(hist.history['accuracy'], 'b', label='train accuracy')\n",
    "    acc_ax.plot(hist.history['val_accuracy'], 'g', label='val accuracy')\n",
    "    acc_ax.set_ylim([0.0, 1]) # 0.0, 1: 0 ~ 100 %, 정확도임으로 변경하지 않음\n",
    "\n",
    "    # 축 레이블 설정\n",
    "    loss_ax.set_xlabel('epoch')  # 학습 횟수\n",
    "    loss_ax.set_ylabel('loss')   # 오차\n",
    "    acc_ax.set_ylabel('accuracy') # 정확도\n",
    "\n",
    "    loss_ax.legend(loc='upper left') # 오차 레이블 위치\n",
    "    acc_ax.legend(loc='lower left')  # 정확도 레이블 위치\n",
    "\n",
    "    plt.show()\n",
    "    \n",
    "    test_loss, test_acc = model.evaluate(x_test, y_test, batch_size=1, verbose=0)\n",
    "    print('손실값:', test_loss, '/정확도:', (test_acc*100), '%')\n",
    "   \n",
    "    return model, hist"
   ]
  },
  {
   "cell_type": "code",
   "execution_count": 17,
   "metadata": {
    "id": "wOQAlzJuLQzo"
   },
   "outputs": [],
   "source": [
    "# L1, L2, Dropout 사용의 경우\n",
    "def l1l2_dropout():\n",
    "    SEED = 0\n",
    "    os.environ['PYTHONHASHSEED'] = str(SEED)\n",
    "    os.environ['TF_DETERMINISTIC_OPS'] = '1'\n",
    "\n",
    "    tf.random.set_seed(SEED) # Global seed\n",
    "    np.random.seed(SEED)\n",
    "    random.seed(SEED)\n",
    "    \n",
    "    model = Sequential()\n",
    "    # model.add(Dense(128, input_dim=17, activation='linear')) \n",
    "    \n",
    "    model.add(Dense(128, input_shape=(17, ), activation='relu',\n",
    "              kernel_regularizer=regularizers.l1_l2(l1=0.0001, l2=0.0001)))\n",
    "    model.add(Dropout(0.1)) # 10% 비활성화, Node의 값을 0으로 변경\n",
    "\n",
    "    model.add(Dense(64, activation='relu',\n",
    "              kernel_regularizer=regularizers.l1_l2(l1=0.0001, l2=0.0001)))\n",
    "    model.add(Dropout(0.1)) # 10% 비활성화, Node의 값을 0으로 변경\n",
    "\n",
    "    model.add(Dense(32, activation='relu'))\n",
    "    model.add(Dense(15, activation='relu'))\n",
    "    model.add(Dense(1, activation='sigmoid')) # 출력층, 입력: 15, 출력 1\n",
    "\n",
    "    model.compile(optimizer='adam', loss='binary_crossentropy',\n",
    "                  metrics=['accuracy'])\n",
    "    model.summary()\n",
    "    \n",
    "    # 오차가 14번 증가되면 종료, Overfit 발생을위해 과도한 학습 진행\n",
    "    es = EarlyStopping(monitor='loss', patience=14, restore_best_weights=True)\n",
    "\n",
    "    # 학습\n",
    "    hist = model.fit(x_train, y_train, validation_data=(x_val, y_val),\n",
    "                     epochs=1000, \n",
    "                     batch_size=2, callbacks=[es])\n",
    "    \n",
    "    fig, loss_ax = plt.subplots()\n",
    "    # plt.figure(figsize=(6,4)) # ERROR\n",
    "    fig.set_size_inches(10, 5)  # 챠트 크기 설정\n",
    "\n",
    "    acc_ax = loss_ax.twinx()  # 오른쪽 y 출 설정\n",
    "\n",
    "    # 왼쪽 y 축 설정\n",
    "    loss_ax.plot(hist.history['loss'], 'y', label='train loss')\n",
    "    loss_ax.plot(hist.history['val_loss'], 'r', label='val loss')\n",
    "    loss_ax.set_ylim([0.0, 1.0229]) # 값을 반영하여 변경\n",
    "\n",
    "    # 오른쪽 y 축 설정\n",
    "    acc_ax.plot(hist.history['accuracy'], 'b', label='train accuracy')\n",
    "    acc_ax.plot(hist.history['val_accuracy'], 'g', label='val accuracy')\n",
    "    acc_ax.set_ylim([0.0, 1]) # 0.0, 1: 0 ~ 100 %, 정확도임으로 변경하지 않음\n",
    "\n",
    "    # 축 레이블 설정\n",
    "    loss_ax.set_xlabel('epoch')  # 학습 횟수\n",
    "    loss_ax.set_ylabel('loss')   # 오차\n",
    "    acc_ax.set_ylabel('accuracy') # 정확도\n",
    "\n",
    "    loss_ax.legend(loc='upper left') # 오차 레이블 위치\n",
    "    acc_ax.legend(loc='lower left')  # 정확도 레이블 위치\n",
    "\n",
    "    plt.show()\n",
    "    \n",
    "    test_loss, test_acc = model.evaluate(x_test, y_test, batch_size=1, verbose=0)\n",
    "    print('손실값:', test_loss, '/정확도:', (test_acc*100), '%')\n",
    "\n",
    "    return model, hist\n"
   ]
  },
  {
   "cell_type": "code",
   "execution_count": 18,
   "metadata": {
    "colab": {
     "base_uri": "https://localhost:8080/",
     "height": 1000
    },
    "executionInfo": {
     "elapsed": 46480,
     "status": "ok",
     "timestamp": 1660959793249,
     "user": {
      "displayName": "강사엄기흥",
      "userId": "12410353940363031053"
     },
     "user_tz": -540
    },
    "id": "kFcW-g1BLQzr",
    "outputId": "0dc47585-a401-4f2e-ce8f-8a2c85f0f0ae"
   },
   "outputs": [
    {
     "name": "stdout",
     "output_type": "stream",
     "text": [
      "Model: \"sequential\"\n",
      "_________________________________________________________________\n",
      " Layer (type)                Output Shape              Param #   \n",
      "=================================================================\n",
      " dense (Dense)               (None, 128)               2304      \n",
      "                                                                 \n",
      " dropout (Dropout)           (None, 128)               0         \n",
      "                                                                 \n",
      " dense_1 (Dense)             (None, 64)                8256      \n",
      "                                                                 \n",
      " dropout_1 (Dropout)         (None, 64)                0         \n",
      "                                                                 \n",
      " dense_2 (Dense)             (None, 32)                2080      \n",
      "                                                                 \n",
      " dense_3 (Dense)             (None, 15)                495       \n",
      "                                                                 \n",
      " dense_4 (Dense)             (None, 1)                 16        \n",
      "                                                                 \n",
      "=================================================================\n",
      "Total params: 13,151\n",
      "Trainable params: 13,151\n",
      "Non-trainable params: 0\n",
      "_________________________________________________________________\n",
      "Epoch 1/1000\n",
      "190/190 [==============================] - 1s 2ms/step - loss: 0.8436 - accuracy: 0.8000 - val_loss: 0.5196 - val_accuracy: 0.8605\n",
      "Epoch 2/1000\n",
      "190/190 [==============================] - 0s 1ms/step - loss: 0.5807 - accuracy: 0.8395 - val_loss: 0.5465 - val_accuracy: 0.8605\n",
      "Epoch 3/1000\n",
      "190/190 [==============================] - 0s 1ms/step - loss: 0.5426 - accuracy: 0.8474 - val_loss: 0.5343 - val_accuracy: 0.8605\n",
      "Epoch 4/1000\n",
      "190/190 [==============================] - 0s 1ms/step - loss: 0.5223 - accuracy: 0.8474 - val_loss: 0.5406 - val_accuracy: 0.8605\n",
      "Epoch 5/1000\n",
      "190/190 [==============================] - 0s 1ms/step - loss: 0.5204 - accuracy: 0.8500 - val_loss: 0.5241 - val_accuracy: 0.8605\n",
      "Epoch 6/1000\n",
      "190/190 [==============================] - 0s 1ms/step - loss: 0.5046 - accuracy: 0.8500 - val_loss: 0.5203 - val_accuracy: 0.8605\n",
      "Epoch 7/1000\n",
      "190/190 [==============================] - 0s 1ms/step - loss: 0.4805 - accuracy: 0.8500 - val_loss: 0.5718 - val_accuracy: 0.8605\n",
      "Epoch 8/1000\n",
      "190/190 [==============================] - 0s 1ms/step - loss: 0.5082 - accuracy: 0.8500 - val_loss: 0.4822 - val_accuracy: 0.8605\n",
      "Epoch 9/1000\n",
      "190/190 [==============================] - 0s 1ms/step - loss: 0.4966 - accuracy: 0.8421 - val_loss: 0.4993 - val_accuracy: 0.8605\n",
      "Epoch 10/1000\n",
      "190/190 [==============================] - 0s 1ms/step - loss: 0.4875 - accuracy: 0.8500 - val_loss: 0.4782 - val_accuracy: 0.8605\n",
      "Epoch 11/1000\n",
      "190/190 [==============================] - 0s 1ms/step - loss: 0.4756 - accuracy: 0.8500 - val_loss: 0.4767 - val_accuracy: 0.8605\n",
      "Epoch 12/1000\n",
      "190/190 [==============================] - 0s 1ms/step - loss: 0.4722 - accuracy: 0.8500 - val_loss: 0.4784 - val_accuracy: 0.8605\n",
      "Epoch 13/1000\n",
      "190/190 [==============================] - 0s 1ms/step - loss: 0.4779 - accuracy: 0.8500 - val_loss: 0.4908 - val_accuracy: 0.8605\n",
      "Epoch 14/1000\n",
      "190/190 [==============================] - 0s 1ms/step - loss: 0.4724 - accuracy: 0.8500 - val_loss: 0.4785 - val_accuracy: 0.8605\n",
      "Epoch 15/1000\n",
      "190/190 [==============================] - 0s 1ms/step - loss: 0.4771 - accuracy: 0.8500 - val_loss: 0.4702 - val_accuracy: 0.8605\n",
      "Epoch 16/1000\n",
      "190/190 [==============================] - 0s 1ms/step - loss: 0.4805 - accuracy: 0.8500 - val_loss: 0.4726 - val_accuracy: 0.8605\n",
      "Epoch 17/1000\n",
      "190/190 [==============================] - 0s 1ms/step - loss: 0.4722 - accuracy: 0.8500 - val_loss: 0.4708 - val_accuracy: 0.8605\n",
      "Epoch 18/1000\n",
      "190/190 [==============================] - 0s 1ms/step - loss: 0.4791 - accuracy: 0.8500 - val_loss: 0.4741 - val_accuracy: 0.8605\n",
      "Epoch 19/1000\n",
      "190/190 [==============================] - 0s 1ms/step - loss: 0.4723 - accuracy: 0.8500 - val_loss: 0.4684 - val_accuracy: 0.8605\n",
      "Epoch 20/1000\n",
      "190/190 [==============================] - 0s 1ms/step - loss: 0.4860 - accuracy: 0.8474 - val_loss: 0.4711 - val_accuracy: 0.8605\n",
      "Epoch 21/1000\n",
      "190/190 [==============================] - 0s 2ms/step - loss: 0.4548 - accuracy: 0.8500 - val_loss: 0.5197 - val_accuracy: 0.8605\n",
      "Epoch 22/1000\n",
      "190/190 [==============================] - 0s 1ms/step - loss: 0.4713 - accuracy: 0.8500 - val_loss: 0.4682 - val_accuracy: 0.8605\n",
      "Epoch 23/1000\n",
      "190/190 [==============================] - 0s 1ms/step - loss: 0.4668 - accuracy: 0.8500 - val_loss: 0.4808 - val_accuracy: 0.8605\n",
      "Epoch 24/1000\n",
      "190/190 [==============================] - 0s 1ms/step - loss: 0.4689 - accuracy: 0.8500 - val_loss: 0.4662 - val_accuracy: 0.8605\n",
      "Epoch 25/1000\n",
      "190/190 [==============================] - 0s 1ms/step - loss: 0.4634 - accuracy: 0.8500 - val_loss: 0.4675 - val_accuracy: 0.8605\n",
      "Epoch 26/1000\n",
      "190/190 [==============================] - 0s 1ms/step - loss: 0.4625 - accuracy: 0.8500 - val_loss: 0.4648 - val_accuracy: 0.8605\n",
      "Epoch 27/1000\n",
      "190/190 [==============================] - 0s 1ms/step - loss: 0.4756 - accuracy: 0.8447 - val_loss: 0.5237 - val_accuracy: 0.8605\n",
      "Epoch 28/1000\n",
      "190/190 [==============================] - 0s 1ms/step - loss: 0.4615 - accuracy: 0.8500 - val_loss: 0.4687 - val_accuracy: 0.8605\n",
      "Epoch 29/1000\n",
      "190/190 [==============================] - 0s 1ms/step - loss: 0.4701 - accuracy: 0.8500 - val_loss: 0.4638 - val_accuracy: 0.8605\n",
      "Epoch 30/1000\n",
      "190/190 [==============================] - 0s 1ms/step - loss: 0.4535 - accuracy: 0.8500 - val_loss: 0.4632 - val_accuracy: 0.8605\n",
      "Epoch 31/1000\n",
      "190/190 [==============================] - 0s 1ms/step - loss: 0.4574 - accuracy: 0.8500 - val_loss: 0.4553 - val_accuracy: 0.8605\n",
      "Epoch 32/1000\n",
      "190/190 [==============================] - 0s 1ms/step - loss: 0.4603 - accuracy: 0.8500 - val_loss: 0.4858 - val_accuracy: 0.8605\n",
      "Epoch 33/1000\n",
      "190/190 [==============================] - 0s 1ms/step - loss: 0.4463 - accuracy: 0.8500 - val_loss: 0.4628 - val_accuracy: 0.8605\n",
      "Epoch 34/1000\n",
      "190/190 [==============================] - 0s 1ms/step - loss: 0.4567 - accuracy: 0.8500 - val_loss: 0.4489 - val_accuracy: 0.8605\n",
      "Epoch 35/1000\n",
      "190/190 [==============================] - 0s 1ms/step - loss: 0.4454 - accuracy: 0.8500 - val_loss: 0.4456 - val_accuracy: 0.8605\n",
      "Epoch 36/1000\n",
      "190/190 [==============================] - 0s 1ms/step - loss: 0.4526 - accuracy: 0.8500 - val_loss: 0.4528 - val_accuracy: 0.8605\n",
      "Epoch 37/1000\n",
      "190/190 [==============================] - 0s 1ms/step - loss: 0.4491 - accuracy: 0.8500 - val_loss: 0.4659 - val_accuracy: 0.8605\n",
      "Epoch 38/1000\n",
      "190/190 [==============================] - 0s 1ms/step - loss: 0.4488 - accuracy: 0.8500 - val_loss: 0.4564 - val_accuracy: 0.8605\n",
      "Epoch 39/1000\n",
      "190/190 [==============================] - 0s 1ms/step - loss: 0.4500 - accuracy: 0.8500 - val_loss: 0.4467 - val_accuracy: 0.8605\n",
      "Epoch 40/1000\n",
      "190/190 [==============================] - 0s 2ms/step - loss: 0.4480 - accuracy: 0.8500 - val_loss: 0.4469 - val_accuracy: 0.8605\n",
      "Epoch 41/1000\n",
      "190/190 [==============================] - 0s 1ms/step - loss: 0.4417 - accuracy: 0.8500 - val_loss: 0.4566 - val_accuracy: 0.8605\n",
      "Epoch 42/1000\n",
      "190/190 [==============================] - 0s 1ms/step - loss: 0.4558 - accuracy: 0.8500 - val_loss: 0.4415 - val_accuracy: 0.8605\n",
      "Epoch 43/1000\n",
      "190/190 [==============================] - 0s 1ms/step - loss: 0.4450 - accuracy: 0.8500 - val_loss: 0.4436 - val_accuracy: 0.8605\n",
      "Epoch 44/1000\n",
      "190/190 [==============================] - 0s 2ms/step - loss: 0.4557 - accuracy: 0.8500 - val_loss: 0.4376 - val_accuracy: 0.8605\n",
      "Epoch 45/1000\n",
      "190/190 [==============================] - 0s 2ms/step - loss: 0.4377 - accuracy: 0.8500 - val_loss: 0.9409 - val_accuracy: 0.8605\n",
      "Epoch 46/1000\n",
      "190/190 [==============================] - 0s 1ms/step - loss: 0.4664 - accuracy: 0.8500 - val_loss: 0.4440 - val_accuracy: 0.8605\n",
      "Epoch 47/1000\n",
      "190/190 [==============================] - 0s 1ms/step - loss: 0.4369 - accuracy: 0.8500 - val_loss: 0.4447 - val_accuracy: 0.8605\n",
      "Epoch 48/1000\n",
      "190/190 [==============================] - 0s 1ms/step - loss: 0.4333 - accuracy: 0.8500 - val_loss: 0.4411 - val_accuracy: 0.8605\n",
      "Epoch 49/1000\n",
      "190/190 [==============================] - 0s 1ms/step - loss: 0.4407 - accuracy: 0.8500 - val_loss: 0.4375 - val_accuracy: 0.8605\n",
      "Epoch 50/1000\n",
      "190/190 [==============================] - 0s 1ms/step - loss: 0.4359 - accuracy: 0.8500 - val_loss: 0.4429 - val_accuracy: 0.8605\n",
      "Epoch 51/1000\n",
      "190/190 [==============================] - 0s 1ms/step - loss: 0.4369 - accuracy: 0.8500 - val_loss: 0.4389 - val_accuracy: 0.8605\n",
      "Epoch 52/1000\n",
      "190/190 [==============================] - 0s 1ms/step - loss: 0.4371 - accuracy: 0.8500 - val_loss: 0.4445 - val_accuracy: 0.8605\n",
      "Epoch 53/1000\n",
      "190/190 [==============================] - 0s 1ms/step - loss: 0.4376 - accuracy: 0.8500 - val_loss: 0.4362 - val_accuracy: 0.8605\n",
      "Epoch 54/1000\n",
      "190/190 [==============================] - 0s 1ms/step - loss: 0.4374 - accuracy: 0.8500 - val_loss: 0.4345 - val_accuracy: 0.8605\n",
      "Epoch 55/1000\n",
      "190/190 [==============================] - 0s 1ms/step - loss: 0.4397 - accuracy: 0.8500 - val_loss: 0.4362 - val_accuracy: 0.8605\n",
      "Epoch 56/1000\n",
      "190/190 [==============================] - 0s 1ms/step - loss: 0.4302 - accuracy: 0.8500 - val_loss: 0.4499 - val_accuracy: 0.8605\n",
      "Epoch 57/1000\n",
      "190/190 [==============================] - 0s 1ms/step - loss: 0.4370 - accuracy: 0.8500 - val_loss: 0.4398 - val_accuracy: 0.8605\n",
      "Epoch 58/1000\n",
      "190/190 [==============================] - 0s 1ms/step - loss: 0.4337 - accuracy: 0.8500 - val_loss: 0.4345 - val_accuracy: 0.8605\n",
      "Epoch 59/1000\n",
      "190/190 [==============================] - 0s 2ms/step - loss: 0.4349 - accuracy: 0.8500 - val_loss: 0.4325 - val_accuracy: 0.8605\n",
      "Epoch 60/1000\n",
      "190/190 [==============================] - 0s 1ms/step - loss: 0.4274 - accuracy: 0.8500 - val_loss: 0.4361 - val_accuracy: 0.8605\n",
      "Epoch 61/1000\n",
      "190/190 [==============================] - 0s 1ms/step - loss: 0.4342 - accuracy: 0.8500 - val_loss: 0.4336 - val_accuracy: 0.8605\n",
      "Epoch 62/1000\n",
      "190/190 [==============================] - 0s 3ms/step - loss: 0.4300 - accuracy: 0.8500 - val_loss: 0.4310 - val_accuracy: 0.8605\n",
      "Epoch 63/1000\n",
      "190/190 [==============================] - 0s 2ms/step - loss: 0.4354 - accuracy: 0.8500 - val_loss: 0.4323 - val_accuracy: 0.8605\n",
      "Epoch 64/1000\n",
      "190/190 [==============================] - 0s 2ms/step - loss: 0.4349 - accuracy: 0.8500 - val_loss: 0.4327 - val_accuracy: 0.8605\n",
      "Epoch 65/1000\n",
      "190/190 [==============================] - 0s 2ms/step - loss: 0.4247 - accuracy: 0.8500 - val_loss: 0.4361 - val_accuracy: 0.8605\n",
      "Epoch 66/1000\n",
      "190/190 [==============================] - 0s 2ms/step - loss: 0.4342 - accuracy: 0.8500 - val_loss: 0.4525 - val_accuracy: 0.8605\n",
      "Epoch 67/1000\n",
      "190/190 [==============================] - 0s 1ms/step - loss: 0.4285 - accuracy: 0.8500 - val_loss: 0.4311 - val_accuracy: 0.8605\n",
      "Epoch 68/1000\n",
      "190/190 [==============================] - 0s 2ms/step - loss: 0.4265 - accuracy: 0.8500 - val_loss: 0.4536 - val_accuracy: 0.8605\n",
      "Epoch 69/1000\n",
      "190/190 [==============================] - 0s 1ms/step - loss: 0.4377 - accuracy: 0.8500 - val_loss: 0.4334 - val_accuracy: 0.8605\n",
      "Epoch 70/1000\n",
      "190/190 [==============================] - 0s 1ms/step - loss: 0.4240 - accuracy: 0.8500 - val_loss: 0.4299 - val_accuracy: 0.8605\n",
      "Epoch 71/1000\n",
      "190/190 [==============================] - 0s 1ms/step - loss: 0.4271 - accuracy: 0.8500 - val_loss: 0.4319 - val_accuracy: 0.8605\n",
      "Epoch 72/1000\n",
      "190/190 [==============================] - 0s 1ms/step - loss: 0.4299 - accuracy: 0.8500 - val_loss: 0.4294 - val_accuracy: 0.8605\n",
      "Epoch 73/1000\n",
      "190/190 [==============================] - 0s 1ms/step - loss: 0.4206 - accuracy: 0.8500 - val_loss: 0.4292 - val_accuracy: 0.8605\n",
      "Epoch 74/1000\n",
      "190/190 [==============================] - 0s 1ms/step - loss: 0.4342 - accuracy: 0.8500 - val_loss: 0.4286 - val_accuracy: 0.8605\n",
      "Epoch 75/1000\n",
      "190/190 [==============================] - 0s 1ms/step - loss: 0.4361 - accuracy: 0.8500 - val_loss: 0.4284 - val_accuracy: 0.8605\n",
      "Epoch 76/1000\n",
      "190/190 [==============================] - 0s 1ms/step - loss: 0.4289 - accuracy: 0.8500 - val_loss: 0.4263 - val_accuracy: 0.8605\n",
      "Epoch 77/1000\n",
      "190/190 [==============================] - 0s 1ms/step - loss: 0.4266 - accuracy: 0.8500 - val_loss: 0.4306 - val_accuracy: 0.8605\n",
      "Epoch 78/1000\n",
      "190/190 [==============================] - 0s 1ms/step - loss: 0.4250 - accuracy: 0.8500 - val_loss: 0.4305 - val_accuracy: 0.8605\n",
      "Epoch 79/1000\n",
      "190/190 [==============================] - 0s 1ms/step - loss: 0.4311 - accuracy: 0.8500 - val_loss: 0.4251 - val_accuracy: 0.8605\n",
      "Epoch 80/1000\n",
      "190/190 [==============================] - 0s 1ms/step - loss: 0.4273 - accuracy: 0.8500 - val_loss: 0.4269 - val_accuracy: 0.8605\n",
      "Epoch 81/1000\n",
      "190/190 [==============================] - 0s 1ms/step - loss: 0.4322 - accuracy: 0.8500 - val_loss: 0.4261 - val_accuracy: 0.8605\n",
      "Epoch 82/1000\n",
      "190/190 [==============================] - 0s 1ms/step - loss: 0.4321 - accuracy: 0.8500 - val_loss: 0.4256 - val_accuracy: 0.8605\n",
      "Epoch 83/1000\n",
      "190/190 [==============================] - 0s 1ms/step - loss: 0.4307 - accuracy: 0.8500 - val_loss: 0.4263 - val_accuracy: 0.8605\n",
      "Epoch 84/1000\n",
      "190/190 [==============================] - 0s 1ms/step - loss: 0.4253 - accuracy: 0.8500 - val_loss: 0.4271 - val_accuracy: 0.8605\n",
      "Epoch 85/1000\n",
      "190/190 [==============================] - 0s 1ms/step - loss: 0.4275 - accuracy: 0.8500 - val_loss: 0.4324 - val_accuracy: 0.8605\n",
      "Epoch 86/1000\n",
      "190/190 [==============================] - 0s 1ms/step - loss: 0.4244 - accuracy: 0.8500 - val_loss: 0.4269 - val_accuracy: 0.8605\n",
      "Epoch 87/1000\n",
      "190/190 [==============================] - 0s 1ms/step - loss: 0.4212 - accuracy: 0.8500 - val_loss: 0.4283 - val_accuracy: 0.8605\n"
     ]
    },
    {
     "data": {
      "image/png": "[encoded data removed]",
      "text/plain": [
       "<Figure size 1000x500 with 2 Axes>"
      ]
     },
     "metadata": {},
     "output_type": "display_data"
    },
    {
     "name": "stdout",
     "output_type": "stream",
     "text": [
      "손실값: 0.43123704195022583 /정확도: 85.10638475418091 %\n"
     ]
    }
   ],
   "source": [
    "# model, hist = l1l2() \n",
    "\n",
    "# model, hist = dropout_use() \n",
    "\n",
    "model, hist = l1l2_dropout()"
   ]
  },
  {
   "cell_type": "code",
   "execution_count": 19,
   "metadata": {
    "id": "-U7F3sGYLQzu"
   },
   "outputs": [
    {
     "name": "stdout",
     "output_type": "stream",
     "text": [
      "(47, 17)\n",
      "2/2 [==============================] - 0s 0s/step\n",
      "[[0]\n",
      " [0]\n",
      " [0]\n",
      " [0]\n",
      " [0]]\n"
     ]
    },
    {
     "data": {
      "image/png": "[encoded data removed]",
      "text/plain": [
       "<Figure size 600x300 with 1 Axes>"
      ]
     },
     "metadata": {},
     "output_type": "display_data"
    },
    {
     "name": "stdout",
     "output_type": "stream",
     "text": [
      "[[40  0]\n",
      " [ 7  0]]\n"
     ]
    }
   ],
   "source": [
    "# 결과 - 혼동 행렬\n",
    "print(x_test.shape)\n",
    "\n",
    "# 모델 테스트, Tensorflow 2.5까지 지원\n",
    "# y_test_pred = model.predict_classes(x_test)  \n",
    "\n",
    "# 모델 테스트, Tensorflow 2.6 이상 지원\n",
    "y_test_pred = (model.predict(x_test) >= 0.5).astype(\"int32\")  # 모델 테스트,\n",
    "print(y_test_pred[:5])\n",
    "\n",
    "c_matrix = confusion_matrix(y_test, y_test_pred)\n",
    "ax = sb.heatmap(c_matrix, annot=True, \n",
    "                 xticklabels=['사망', '생존'], \n",
    "                 yticklabels=['사망', '생존'], cbar=False, cmap='Blues')\n",
    "ax.set_xlabel(\"Prediction\")\n",
    "ax.set_ylabel(\"Actual\")\n",
    "plt.show()\n",
    "\n",
    "print(c_matrix)\n",
    "\n",
    "# [[40   0]\n",
    "#  [ 7   0]]\n",
    "# [[사망자 맞춘 갯수   사망자 틀린 갯수]\n",
    "#  [생존자 틀린 갯수   생존자 맞춘갯수]]"
   ]
  },
  {
   "cell_type": "code",
   "execution_count": null,
   "metadata": {},
   "outputs": [],
   "source": []
  }
 ],
 "metadata": {
  "colab": {
   "collapsed_sections": [],
   "name": "L1L2_Dropout.ipynb",
   "provenance": []
  },
  "kernelspec": {
   "display_name": "ai",
   "language": "python",
   "name": "python3"
  },
  "language_info": {
   "codemirror_mode": {
    "name": "ipython",
    "version": 3
   },
   "file_extension": ".py",
   "mimetype": "text/x-python",
   "name": "python",
   "nbconvert_exporter": "python",
   "pygments_lexer": "ipython3",
   "version": "3.10.13"
  }
 },
 "nbformat": 4,
 "nbformat_minor": 1
}
