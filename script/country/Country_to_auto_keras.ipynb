{
 "cells": [
  {
   "cell_type": "markdown",
   "metadata": {
    "id": "Bj4nkZ_xt0EJ"
   },
   "source": [
    "### 이항 분류, CPU\n",
    "#### 표준화를 사용: country2.csv\n",
    "- 평균 -> 편차 -> 편차의 제곱의 평균(분산) -> 표준 편차 -> 표준화(z) -> 표준정규분포"
   ]
  },
  {
   "cell_type": "code",
   "execution_count": 2,
   "metadata": {
    "executionInfo": {
     "elapsed": 270,
     "status": "ok",
     "timestamp": 1659769749021,
     "user": {
      "displayName": "강사엄기흥",
      "userId": "12410353940363031053"
     },
     "user_tz": -540
    },
    "id": "igcNLT6MtsXw"
   },
   "outputs": [],
   "source": [
    "import warnings\n",
    "warnings.filterwarnings(action='ignore')\n",
    "\n",
    "import os\n",
    "import time\n",
    "# import cv2\n",
    "import random\n",
    "\n",
    "import numpy as np\n",
    "import pandas as pd\n",
    "import seaborn as sb\n",
    "import tensorflow as tf\n",
    "\n",
    "from tensorflow.keras.models import Sequential  # class\n",
    "from tensorflow.keras.models import load_model  # model 사용\n",
    "from tensorflow.keras.layers import Dense       # 전결합\n",
    "from tensorflow.keras.layers import Dropout     # 특정 node를 사용안함.\n",
    "from tensorflow.keras.layers import Conv2D\n",
    "from tensorflow.keras.layers import MaxPooling2D\n",
    "from tensorflow.keras.layers import Flatten\n",
    "\n",
    "from tensorflow.keras.callbacks import EarlyStopping   # 학습 자동 중지\n",
    "from tensorflow.keras.callbacks import ModelCheckpoint # 우수한 학습 모델 파일 저장\n",
    "from tensorflow.keras import regularizers \n",
    "from tensorflow.keras.utils import to_categorical   # one-hot 엔코딩\n",
    "from tensorflow.keras.optimizers import Adam\n",
    "\n",
    "from tensorflow.keras.datasets import mnist\n",
    "\n",
    "from sklearn.preprocessing import LabelEncoder\n",
    "from sklearn.model_selection import train_test_split # 학습셋과 테스트셋의 분리 지원\n",
    "from sklearn.model_selection import StratifiedKFold  # K겹 교차 검증\n",
    "\n",
    "from PIL import Image\n",
    "\n",
    "import matplotlib.pyplot as plt\n",
    "import seaborn as sb\n",
    "from matplotlib import font_manager, rc\n",
    "\n",
    "import platform \n",
    "# Windows, Linux, Darwin\n",
    "if (platform.system() == 'Windows'):  \n",
    "    rc('font', family=font_manager.FontProperties(fname=\"C:/Windows/Fonts/malgun.ttf\").get_name())\n",
    "    path = '.' # Local\n",
    "else:    \n",
    "    rc('font', family='NanumBarunGothic')  # Ubuntu 18.04 기준 한글 처리\n",
    "    path = '/content/drive/My Drive/kd_ml/dnn/country' # Colab\n",
    "\n",
    "os.chdir(path) # 기본 경로 설정\n",
    "\n",
    "plt.rcParams[\"font.size\"] = 12         # 글자 크기\n",
    "plt.rcParams[\"figure.figsize\"] = (6, 3) # 10:4의 그래프 비율\n",
    "plt.rcParams['axes.unicode_minus'] = False  # minus 부호는 unicode 적용시 한글이 깨짐으로 설정\n",
    "\n",
    "%matplotlib inline\n",
    "\n",
    "# ---------------------------------------------------------------------\n",
    "# gpu 사용시 런타임에서 필요한 양만큼의 GPU 메모리를 할당후 자동 증가 처리\n",
    "# OS 메모리도 초기화됨.\n",
    "# ---------------------------------------------------------------------\n",
    "import tensorflow as tf\n",
    "\n",
    "gpus = tf.config.experimental.list_physical_devices('GPU')\n",
    "if gpus:\n",
    "    try:\n",
    "        tf.config.experimental.set_memory_growth(gpus[0], True)\n",
    "    except RuntimeError as e:\n",
    "        # 프로그램 시작시에 메모리 증가가 설정되어야만 합니다\n",
    "        print(e)\n",
    "    \n",
    "# ---------------------------------------------------------------------"
   ]
  },
  {
   "cell_type": "code",
   "execution_count": 3,
   "metadata": {
    "colab": {
     "base_uri": "https://localhost:8080/"
    },
    "executionInfo": {
     "elapsed": 23,
     "status": "ok",
     "timestamp": 1659769749352,
     "user": {
      "displayName": "강사엄기흥",
      "userId": "12410353940363031053"
     },
     "user_tz": -540
    },
    "id": "lm--BrExuA0f",
    "outputId": "8a715865-97c5-4c3c-977a-97858bae7f17"
   },
   "outputs": [
    {
     "name": "stdout",
     "output_type": "stream",
     "text": [
      "<class 'numpy.ndarray'>\n",
      "(100, 7)\n",
      "[[ 0.  0.  0.  5.  1.  0.  0.]\n",
      " [ 1.  0.  1.  6.  1.  0.  1.]\n",
      " [ 1.  1.  1. 10.  1.  0.  1.]]\n"
     ]
    }
   ],
   "source": [
    "# 데이터 준비\n",
    "data = np.loadtxt('../../data/country/country2.csv', delimiter=',', dtype=np.float64, \n",
    "                  skiprows=1)\n",
    "print(type(data))\n",
    "print(data.shape)\n",
    "print(data[:3])"
   ]
  },
  {
   "cell_type": "code",
   "execution_count": 4,
   "metadata": {
    "colab": {
     "base_uri": "https://localhost:8080/"
    },
    "executionInfo": {
     "elapsed": 21,
     "status": "ok",
     "timestamp": 1659769749353,
     "user": {
      "displayName": "강사엄기흥",
      "userId": "12410353940363031053"
     },
     "user_tz": -540
    },
    "id": "2hUOVgTG7_bx",
    "outputId": "b11a4406-6dc0-490b-c041-0aa53146f0cf"
   },
   "outputs": [
    {
     "name": "stdout",
     "output_type": "stream",
     "text": [
      "(100, 7)\n",
      "(7, 100)\n"
     ]
    }
   ],
   "source": [
    "# 평균, 표준 편차의 산출시 행방향 기준이 아니라 열방향을 기준으로 산출해야함.\n",
    "# 성  명  Python  Tensorflow  Analysis\n",
    "# 왕눈이  90      80            90  \n",
    "# 아로미  95      90            85  \n",
    "# 투투    80      65            75\n",
    "# Python 과목의 평균과 표준편차는 열방향으로 구해야하나, \n",
    "# 일반적인 관측치 데이터는 행방향을 가지고 있음\n",
    "print(data.shape)\n",
    "datat = data.T\n",
    "print(datat.shape)"
   ]
  },
  {
   "cell_type": "code",
   "execution_count": 5,
   "metadata": {},
   "outputs": [
    {
     "name": "stdout",
     "output_type": "stream",
     "text": [
      "1.0\n",
      "1.4142135623730951\n",
      "2.0\n"
     ]
    }
   ],
   "source": [
    "print(np.sqrt(1)) # 분산 1과 표준편차 1은 같음\n",
    "print(np.sqrt(2)) # 분산이 2면 표준편차는 1.4142135623730951임\n",
    "print(np.sqrt(4)) # 분산이 4면 표준편차는 2임"
   ]
  },
  {
   "cell_type": "code",
   "execution_count": 6,
   "metadata": {},
   "outputs": [
    {
     "name": "stdout",
     "output_type": "stream",
     "text": [
      "range(0, 7)\n",
      "range(0, 6)\n"
     ]
    }
   ],
   "source": [
    "print(range(len(datat)))\n",
    "print(range(len(datat)-1)) # 7번째 행은 분류가 들어가 있음으로 제외"
   ]
  },
  {
   "cell_type": "code",
   "execution_count": 7,
   "metadata": {
    "colab": {
     "base_uri": "https://localhost:8080/"
    },
    "executionInfo": {
     "elapsed": 17,
     "status": "ok",
     "timestamp": 1659769749354,
     "user": {
      "displayName": "강사엄기흥",
      "userId": "12410353940363031053"
     },
     "user_tz": -540
    },
    "id": "mfzjeHCv8lvX",
    "outputId": "9ee8f509-f110-492a-d891-9a3cd101fd0d"
   },
   "outputs": [
    {
     "name": "stdout",
     "output_type": "stream",
     "text": [
      "0 행 m: 0.8  std: 1.0295630140987002\n",
      "1 행 m: 0.39  std: 0.4877499359302879\n",
      "2 행 m: 0.66  std: 0.4737087712930805\n",
      "3 행 m: 7.32  std: 2.842111890830479\n",
      "4 행 m: 0.92  std: 0.2712931993250107\n",
      "5 행 m: 1.19  std: 1.2385071659057931\n"
     ]
    }
   ],
   "source": [
    "# 표준화, 연속실행 안됨 ★\n",
    "\n",
    "ms = [] # 평균 목록, 테스트시 사용, 웹서비스시 사용\n",
    "stds = [] # 표준편차 목록, 테스트시 사용, 웹서비스시 사용\n",
    "\n",
    "for i in range(len(datat)-1): # 6개의 행 대상, Target 컬럼 7번째 컬럼은 제외\n",
    "    # datat[i] = datat[i].astype('float32')\n",
    "    m = datat[i].mean()  # 평균\n",
    "    std = datat[i].std() # 표준편차\n",
    "    print(i, '행 ''m:', m, ' std:', std)\n",
    "    \n",
    "    # 표준화 실행, 평균(m) 0, 분산 1, 표준편차: std\n",
    "    datat[i] = (datat[i] - m) / std # z 값\n",
    "\n",
    "    ms.append(m)     # 모델 사용시에 사용\n",
    "    stds.append(std) # 모델 사용시에 사용\n",
    "\n",
    "# print(datat[5])"
   ]
  },
  {
   "cell_type": "code",
   "execution_count": 8,
   "metadata": {
    "colab": {
     "base_uri": "https://localhost:8080/"
    },
    "executionInfo": {
     "elapsed": 14,
     "status": "ok",
     "timestamp": 1659769749355,
     "user": {
      "displayName": "강사엄기흥",
      "userId": "12410353940363031053"
     },
     "user_tz": -540
    },
    "id": "W-12cYNC9xnf",
    "outputId": "22bbb983-dc10-4823-e96d-e541e3ed9727"
   },
   "outputs": [
    {
     "name": "stdout",
     "output_type": "stream",
     "text": [
      "(100, 7)\n",
      "[-0.77702869 -0.79959006 -1.39326109 -0.81629439  0.29488391 -0.96083417\n",
      "  0.        ]\n"
     ]
    }
   ],
   "source": [
    "data = datat.T     # 행과열을 처음 상태로 복원\n",
    "print(data.shape)\n",
    "print(data[0])"
   ]
  },
  {
   "cell_type": "code",
   "execution_count": 9,
   "metadata": {
    "colab": {
     "base_uri": "https://localhost:8080/"
    },
    "executionInfo": {
     "elapsed": 13,
     "status": "ok",
     "timestamp": 1659769749356,
     "user": {
      "displayName": "강사엄기흥",
      "userId": "12410353940363031053"
     },
     "user_tz": -540
    },
    "id": "Coy8S3I7unAL",
    "outputId": "68fe3391-beed-4d9d-9b20-e96189ee293d"
   },
   "outputs": [
    {
     "name": "stdout",
     "output_type": "stream",
     "text": [
      "[[-0.77702869 -0.79959006 -1.39326109 -0.81629439  0.29488391 -0.96083417]\n",
      " [ 0.19425717 -0.79959006  0.71774056 -0.46444336  0.29488391 -0.96083417]\n",
      " [ 0.19425717  1.25064086  0.71774056  0.94296076  0.29488391 -0.96083417]]\n",
      "[0. 1. 1.]\n"
     ]
    }
   ],
   "source": [
    "# 데이터 분할\n",
    "X = data[:, :6]\n",
    "print(X[:3])\n",
    "Y = data[:, 6]\n",
    "print(Y[:3])"
   ]
  },
  {
   "cell_type": "code",
   "execution_count": 10,
   "metadata": {},
   "outputs": [
    {
     "name": "stdout",
     "output_type": "stream",
     "text": [
      "(90, 6)\n",
      "(90,)\n",
      "[0. 0. 0.]\n"
     ]
    }
   ],
   "source": [
    "# train_test_split 분할을 통한 훈련, 검증, 테스트 데이터의 분리\n",
    "# 데이터를 3그룹으로 분할: test 5% -> 95%(train 80%, validation 20%)\n",
    "seed = 0\n",
    "# stratify=Y: 0과 1의 분류 비율을 동일하게 데이터를 분할해줌.\n",
    "# 95%: 분할대기(x_train_all), 5%: 테스트(x_test)\n",
    "# x_train_all: 훈련 데이터 95% 분할 대기\n",
    "# x_test: 테스트 데이터 5% 분할\n",
    "# y_train_all: 훈련 target(class) 95% 분할 대기\n",
    "# y_test: 테스트 target(class) 5% 분할\n",
    "x_train, x_test, y_train, y_test = train_test_split(X, Y,\n",
    "                                                  #  stratify=Y > training set 과 test set의 분류종류가 (즉 0, 1이) 일정하게 섞이는 기능 지원\n",
    "                                                  stratify=Y,\n",
    "                                                  test_size=0.1,\n",
    "                                                  random_state=seed)\n",
    "# 나머지 데이터 95%를 분할, 80%: 훈련(x_train), 20%: 검증(x_val)\n",
    "# x_train: 훈련 데이터 80% 분할\n",
    "# x_val: 검증 데이터 20% 분할\n",
    "# y_train: 훈련 target(class) 80% 분할\n",
    "# y_val: 검증 target(class) 20% 분할\n",
    "# x_train, x_val, y_train, y_val = train_test_split(x_train_all, y_train_all,\n",
    "#                                                   stratify=y_train_all,\n",
    "#                                                   test_size=0.2,\n",
    "#                                                   random_state=seed)\n",
    "print(x_train.shape)\n",
    "print(y_train.shape)\n",
    "print(y_train[0:3]) # 검증 Target 3건만 출력"
   ]
  },
  {
   "cell_type": "code",
   "execution_count": 12,
   "metadata": {
    "colab": {
     "base_uri": "https://localhost:8080/"
    },
    "executionInfo": {
     "elapsed": 8800,
     "status": "ok",
     "timestamp": 1659769758146,
     "user": {
      "displayName": "강사엄기흥",
      "userId": "12410353940363031053"
     },
     "user_tz": -540
    },
    "id": "3mARfxQNu_qy",
    "outputId": "6ed4054e-dc33-46cb-ff85-6245da2a94ca"
   },
   "outputs": [
    {
     "name": "stdout",
     "output_type": "stream",
     "text": [
      "Trial 3 Complete [00h 00m 07s]\n",
      "val_accuracy: 0.9444444179534912\n",
      "\n",
      "Best val_accuracy So Far: 0.9444444179534912\n",
      "Total elapsed time: 00h 00m 25s\n",
      "Epoch 1/50\n",
      "90/90 [==============================] - 1s 1ms/step - loss: 0.5310 - accuracy: 0.7222\n",
      "Epoch 2/50\n",
      "90/90 [==============================] - 0s 1ms/step - loss: 0.3076 - accuracy: 0.9889\n",
      "Epoch 3/50\n",
      "90/90 [==============================] - 0s 1ms/step - loss: 0.1936 - accuracy: 0.9778\n",
      "Epoch 4/50\n",
      "90/90 [==============================] - 0s 1ms/step - loss: 0.1356 - accuracy: 0.9889\n",
      "Epoch 5/50\n",
      "90/90 [==============================] - 0s 1ms/step - loss: 0.1046 - accuracy: 0.9889\n",
      "Epoch 6/50\n",
      "90/90 [==============================] - 0s 1ms/step - loss: 0.0867 - accuracy: 0.9889\n",
      "Epoch 7/50\n",
      "90/90 [==============================] - 0s 1ms/step - loss: 0.0753 - accuracy: 0.9889\n",
      "Epoch 8/50\n",
      "90/90 [==============================] - 0s 2ms/step - loss: 0.0677 - accuracy: 0.9889\n",
      "Epoch 9/50\n",
      "90/90 [==============================] - 0s 2ms/step - loss: 0.0622 - accuracy: 0.9889\n",
      "Epoch 10/50\n",
      "90/90 [==============================] - 0s 1ms/step - loss: 0.0579 - accuracy: 0.9889\n",
      "Epoch 11/50\n",
      "90/90 [==============================] - 0s 1ms/step - loss: 0.0541 - accuracy: 0.9889\n",
      "Epoch 12/50\n",
      "90/90 [==============================] - 0s 2ms/step - loss: 0.0511 - accuracy: 0.9889\n",
      "Epoch 13/50\n",
      "90/90 [==============================] - 0s 1ms/step - loss: 0.0488 - accuracy: 0.9889\n",
      "Epoch 14/50\n",
      "90/90 [==============================] - 0s 2ms/step - loss: 0.0464 - accuracy: 0.9889\n",
      "Epoch 15/50\n",
      "90/90 [==============================] - 0s 2ms/step - loss: 0.0444 - accuracy: 0.9889\n",
      "Epoch 16/50\n",
      "90/90 [==============================] - 0s 2ms/step - loss: 0.0438 - accuracy: 0.9889\n",
      "Epoch 17/50\n",
      "90/90 [==============================] - 0s 1ms/step - loss: 0.0421 - accuracy: 0.9889\n",
      "Epoch 18/50\n",
      "90/90 [==============================] - 0s 2ms/step - loss: 0.0407 - accuracy: 0.9889\n",
      "Epoch 19/50\n",
      "90/90 [==============================] - 0s 1ms/step - loss: 0.0391 - accuracy: 0.9889\n",
      "Epoch 20/50\n",
      "90/90 [==============================] - 0s 1ms/step - loss: 0.0394 - accuracy: 0.9889\n",
      "Epoch 21/50\n",
      "90/90 [==============================] - 0s 2ms/step - loss: 0.0385 - accuracy: 0.9889\n",
      "Epoch 22/50\n",
      "90/90 [==============================] - 0s 1ms/step - loss: 0.0371 - accuracy: 0.9889\n",
      "Epoch 23/50\n",
      "90/90 [==============================] - 0s 2ms/step - loss: 0.0368 - accuracy: 0.9889\n",
      "Epoch 24/50\n",
      "90/90 [==============================] - 0s 2ms/step - loss: 0.0358 - accuracy: 0.9889\n",
      "Epoch 25/50\n",
      "90/90 [==============================] - 0s 1ms/step - loss: 0.0352 - accuracy: 0.9889\n",
      "Epoch 26/50\n",
      "90/90 [==============================] - 0s 1ms/step - loss: 0.0352 - accuracy: 0.9889\n",
      "Epoch 27/50\n",
      "90/90 [==============================] - 0s 1ms/step - loss: 0.0353 - accuracy: 0.9889\n",
      "Epoch 28/50\n",
      "90/90 [==============================] - 0s 1ms/step - loss: 0.0353 - accuracy: 0.9889\n",
      "Epoch 29/50\n",
      "90/90 [==============================] - 0s 1ms/step - loss: 0.0354 - accuracy: 0.9889\n",
      "Epoch 30/50\n",
      "90/90 [==============================] - 0s 2ms/step - loss: 0.0354 - accuracy: 0.9889\n",
      "Epoch 31/50\n",
      "90/90 [==============================] - 0s 2ms/step - loss: 0.0349 - accuracy: 0.9889\n",
      "Epoch 32/50\n",
      "90/90 [==============================] - 0s 2ms/step - loss: 0.0340 - accuracy: 0.9889\n",
      "Epoch 33/50\n",
      "90/90 [==============================] - 0s 1ms/step - loss: 0.0342 - accuracy: 0.9889\n",
      "Epoch 34/50\n",
      "90/90 [==============================] - 0s 1ms/step - loss: 0.0336 - accuracy: 0.9889\n",
      "Epoch 35/50\n",
      "90/90 [==============================] - 0s 1ms/step - loss: 0.0335 - accuracy: 0.9889\n",
      "Epoch 36/50\n",
      "90/90 [==============================] - 0s 1ms/step - loss: 0.0331 - accuracy: 0.9889\n",
      "Epoch 37/50\n",
      "90/90 [==============================] - 0s 1ms/step - loss: 0.0332 - accuracy: 0.9889\n",
      "Epoch 38/50\n",
      "90/90 [==============================] - 0s 1ms/step - loss: 0.0337 - accuracy: 0.9889\n",
      "Epoch 39/50\n",
      "90/90 [==============================] - 0s 2ms/step - loss: 0.0333 - accuracy: 0.9889\n",
      "Epoch 40/50\n",
      "90/90 [==============================] - 0s 1ms/step - loss: 0.0331 - accuracy: 0.9889\n",
      "Epoch 41/50\n",
      "90/90 [==============================] - 0s 1ms/step - loss: 0.0333 - accuracy: 0.9889\n",
      "Epoch 42/50\n",
      "90/90 [==============================] - 0s 1ms/step - loss: 0.0329 - accuracy: 0.9889\n",
      "Epoch 43/50\n",
      "90/90 [==============================] - 0s 1ms/step - loss: 0.0328 - accuracy: 0.9889\n",
      "Epoch 44/50\n",
      "90/90 [==============================] - 0s 1ms/step - loss: 0.0328 - accuracy: 0.9889\n",
      "Epoch 45/50\n",
      "90/90 [==============================] - 0s 1ms/step - loss: 0.0327 - accuracy: 0.9889\n",
      "Epoch 46/50\n",
      "90/90 [==============================] - 0s 1ms/step - loss: 0.0325 - accuracy: 0.9889\n",
      "Epoch 47/50\n",
      "90/90 [==============================] - 0s 1ms/step - loss: 0.0324 - accuracy: 0.9889\n",
      "Epoch 48/50\n",
      "90/90 [==============================] - 0s 2ms/step - loss: 0.0323 - accuracy: 0.9889\n",
      "Epoch 49/50\n",
      "90/90 [==============================] - 0s 1ms/step - loss: 0.0338 - accuracy: 0.9889\n",
      "Epoch 50/50\n",
      "90/90 [==============================] - 0s 1ms/step - loss: 0.0331 - accuracy: 0.9889\n",
      "INFO:tensorflow:Assets written to: .\\structured_data_classifier\\best_model\\assets\n",
      "Runtime: 37.09 초\n"
     ]
    }
   ],
   "source": [
    "import autokeras as ak\n",
    "\n",
    "# Autokeras\n",
    "SEED = 0\n",
    "os.environ['PYTHONHASHSEED'] = str(SEED)\n",
    "os.environ['TF_DETERMINISTIC_OPS'] = '1'\n",
    "\n",
    "tf.random.set_seed(SEED) # Global seed\n",
    "np.random.seed(SEED)\n",
    "random.seed(SEED)\n",
    "\n",
    "# AutoKeras를 사용하여 구조화된 데이터에 대한 회귀 모델을 생성합니다.\n",
    "# 사용할 옵티마이저 정의 (Adam 옵티마이저, 학습률=0.001)\n",
    "# optimizer = tf.keras.optimizers.Adam(learning_rate=0.01) # 기본값 Adam, 0.001\n",
    "    # optimizer=optimizer,\n",
    "akmodel = ak.StructuredDataClassifier(\n",
    "    max_trials=3,  # 최대 시도 횟수를 1로 설정합니다. 이는 AutoKeras가 탐색할 모델 구성의 최대 개수입니다.\n",
    "    overwrite=True # 이전에 실행한 모델 훈련 세션을 덮어쓸지 여부를 결정합니다. True이면 이전 세션을 덮어씁니다.\n",
    ")\n",
    "\n",
    "import os, datetime\n",
    "# 로그 디렉토리 생성: 현재 시간을 기반으로한 포맷으로 생성됨\n",
    "logdir = os.path.join(\"logs\", datetime.datetime.now().strftime(\"%Y%m%d-%H%M%S\"))\n",
    "\n",
    "# TensorBoard 콜백 정의:\n",
    "# - logdir: TensorBoard가 생성된 로그 파일을 저장할 디렉토리 경로\n",
    "# - histogram_freq=0: 히스토그램 시각화를 얼마나 자주 기록할지를 설정합니다.\n",
    "#   여기서는 0으로 설정하여 히스토그램을 기록하지 않음을 의미합니다. Autokeras는 0을 지정해야함.\n",
    "tensorboard_callback = tf.keras.callbacks.TensorBoard(logdir, histogram_freq=0)\n",
    "\n",
    "# patience=7: 손실이 7번 늘어날때까지 훈련을 계속, 7번째 종료\n",
    "# restore_best_weights=True: 가중치를 가장 오차가 적었던 경우로 저장\n",
    "es = EarlyStopping(monitor='loss', patience=5, restore_best_weights=True)\n",
    "\n",
    "# 모델을 훈련합니다. x_train은 입력 데이터, y_train은 타겟 데이터입니다.\n",
    "#     batch_size=10,  # 각 훈련 스텝에서 1개의 샘플을 사용합니다. 작은 배치 크기는 더 높은 메모리 사용량과 느린 훈련 속도를 유발할 수 있습니다., 기본 32\n",
    "#     validation_split=0.2,  # 전체 훈련 데이터의 20%를 검증 데이터로 사용합니다. 이는 모델의 성능을 검증하기 위해 사용됩니다.\n",
    "start = time.time()\n",
    "akmodel.fit(\n",
    "    x_train,\n",
    "    y_train,\n",
    "    epochs=50,  # 전체 훈련 데이터셋에 대해 모델을 5번 반복 훈련합니다. 기본 1000\n",
    "    batch_size=1,  # 각 훈련 스텝에서 1개의 샘플을 사용합니다. 작은 배치 크기는 더 높은 메모리 사용량과 느린 훈련 속도를 유발할 수 있습니다., 기본 32\n",
    "    callbacks=[tensorboard_callback, es])\n",
    "\n",
    "end = time.time()\n",
    "print('Runtime: {0:.2f} 초'.format(end-start)) # Colab: 130.44 s"
   ]
  },
  {
   "cell_type": "code",
   "execution_count": 13,
   "metadata": {
    "colab": {
     "base_uri": "https://localhost:8080/",
     "height": 338
    },
    "executionInfo": {
     "elapsed": 2311,
     "status": "ok",
     "timestamp": 1659769760443,
     "user": {
      "displayName": "강사엄기흥",
      "userId": "12410353940363031053"
     },
     "user_tz": -540
    },
    "id": "NC5QdulG3xrr",
    "outputId": "3ecff5dd-cc6c-4a5e-9a12-b3c6f533423e"
   },
   "outputs": [
    {
     "name": "stdout",
     "output_type": "stream",
     "text": [
      "Model: \"model\"\n",
      "_________________________________________________________________\n",
      " Layer (type)                Output Shape              Param #   \n",
      "=================================================================\n",
      " input_1 (InputLayer)        [(None, 6)]               0         \n",
      "                                                                 \n",
      " multi_category_encoding (Mu  (None, 6)                0         \n",
      " ltiCategoryEncoding)                                            \n",
      "                                                                 \n",
      " normalization (Normalizatio  (None, 6)                13        \n",
      " n)                                                              \n",
      "                                                                 \n",
      " dense (Dense)               (None, 32)                224       \n",
      "                                                                 \n",
      " re_lu (ReLU)                (None, 32)                0         \n",
      "                                                                 \n",
      " dense_1 (Dense)             (None, 32)                1056      \n",
      "                                                                 \n",
      " re_lu_1 (ReLU)              (None, 32)                0         \n",
      "                                                                 \n",
      " dense_2 (Dense)             (None, 1)                 33        \n",
      "                                                                 \n",
      " classification_head_1 (Acti  (None, 1)                0         \n",
      " vation)                                                         \n",
      "                                                                 \n",
      "=================================================================\n",
      "Total params: 1,326\n",
      "Trainable params: 1,313\n",
      "Non-trainable params: 13\n",
      "_________________________________________________________________\n"
     ]
    }
   ],
   "source": [
    "# First we export the model to a keras model\n",
    "model = akmodel.export_model()\n",
    "\n",
    "# Now, we ask for the model Sumary:\n",
    "model.summary()"
   ]
  },
  {
   "cell_type": "code",
   "execution_count": 17,
   "metadata": {
    "colab": {
     "base_uri": "https://localhost:8080/"
    },
    "executionInfo": {
     "elapsed": 447,
     "status": "ok",
     "timestamp": 1659769760885,
     "user": {
      "displayName": "강사엄기흥",
      "userId": "12410353940363031053"
     },
     "user_tz": -540
    },
    "id": "b-juTWEI3yjw",
    "outputId": "2417ac10-42d5-4454-c662-4d2e008270c4"
   },
   "outputs": [
    {
     "name": "stdout",
     "output_type": "stream",
     "text": [
      "You must install pydot (`pip install pydot`) and install graphviz (see instructions at https://graphviz.gitlab.io/download/) for plot_model to work.\n",
      "INFO:tensorflow:Assets written to: Economic_auto_model\\assets\n",
      "1/1 [==============================] - 0s 138ms/step\n",
      "<class 'numpy.ndarray'>\n",
      "(10, 1)\n"
     ]
    }
   ],
   "source": [
    "from tensorflow.keras.utils import plot_model\n",
    "plot_model(model)\n",
    "\n",
    "model.save(\"Economic_auto_model\", save_format=\"tf\")\n",
    "model = load_model(\"Economic_auto_model\", custom_objects=ak.CUSTOM_OBJECTS)\n",
    "\n",
    "y_test_p = model.predict(x_test) # 모델 사용\n",
    "print(type(y_test_p))\n",
    "print(y_test_p.shape) # (146, 1): 테스트 관측치(행)는 146개임, 예측값의 수 1"
   ]
  },
  {
   "cell_type": "code",
   "execution_count": 18,
   "metadata": {
    "colab": {
     "base_uri": "https://localhost:8080/"
    },
    "executionInfo": {
     "elapsed": 38499,
     "status": "ok",
     "timestamp": 1659769824902,
     "user": {
      "displayName": "강사엄기흥",
      "userId": "12410353940363031053"
     },
     "user_tz": -540
    },
    "id": "HQbcEMiZ4JmP",
    "outputId": "c3de76f7-1ee0-40c6-f7ac-0fdb32fb963d"
   },
   "outputs": [],
   "source": [
    "# 1) 주당 음주 횟수: 0 ~ 3(3회 이상)\n",
    "# 2) 농촌에서 생활적이 있다: 0(없음), 1(있음)\n",
    "# 3) 가족중에 농촌에서 생활하고 있는 친척있는 여부: 0(없음), 1(있음)\n",
    "# 4) 1년동안의 여행 횟수: 0 ~ 12\n",
    "#     (12이상, 교통을 이용한 등산/캠핑, 당일, 국내, 국외 모두 해당)\n",
    "# 5) 집을 소유 할 수 있는 경제력: 0(없음), 1(있음)\n",
    "# 6) 경작 할 수 있는 토지 평수: 0 ~ (평)\n",
    "#     0: 없음, 1: 1 ~ 2000 미만, 2: 2000이상 ~ 3000미만, 3: 3000 이상\n",
    "# 7) 정착: 1, 실패: 0\n",
    "        \n",
    "drink = int(input('주당 음주 횟수는 (0 ~ 3(3회 이상)):'))\n",
    "life = int(input('농촌에서 생활한 경험(0(없음), 1(있음)):'))\n",
    "life2 = int(input('가족중에 농촌에서 생활하고 있는 친척있는 여부(0(없음), 1(있음)):'))\n",
    "trip = int(input('1년동안의 여행 횟수(0 ~ 12):'))\n",
    "house = int(input('집을 소유 할 수 있는 경제력(0(없음), 1(있음)):'))\n",
    "land = int(input('경작 할 수 있는 토지 평수(0: 없음, 1: 1 ~ 2000 미만, 2: 2000이상 ~ 3000미만, 3: 3000 이상):'))"
   ]
  },
  {
   "cell_type": "code",
   "execution_count": 19,
   "metadata": {
    "colab": {
     "base_uri": "https://localhost:8080/"
    },
    "executionInfo": {
     "elapsed": 301,
     "status": "ok",
     "timestamp": 1659769871652,
     "user": {
      "displayName": "강사엄기흥",
      "userId": "12410353940363031053"
     },
     "user_tz": -540
    },
    "id": "Yx5eUFV5_Q2C",
    "outputId": "bb804bd6-472c-4cba-c138-5cef3970f5b6"
   },
   "outputs": [
    {
     "name": "stdout",
     "output_type": "stream",
     "text": [
      "(1, 6)\n",
      "[[ 1.16554303  1.25064086  0.71774056 -1.87184749 -3.39116499 -0.96083417]]\n"
     ]
    }
   ],
   "source": [
    "# 모집단의 평균과 표준편차를 이용하여 테스트 데이터의 표준화 진행 ★★★★★\n",
    "data = []\n",
    "data.append((drink - ms[0]) / stds[0])\n",
    "data.append((life - ms[1]) / stds[1])\n",
    "data.append((life2 - ms[2]) / stds[2])\n",
    "data.append((trip - ms[3]) / stds[3])\n",
    "data.append((house - ms[4]) / stds[4])\n",
    "data.append((land - ms[5]) / stds[5])\n",
    "\n",
    "x = np.array([\n",
    "             data,\n",
    "      ])\n",
    "print(x.shape)\n",
    "print(x)"
   ]
  },
  {
   "cell_type": "code",
   "execution_count": 20,
   "metadata": {
    "colab": {
     "base_uri": "https://localhost:8080/"
    },
    "executionInfo": {
     "elapsed": 703,
     "status": "ok",
     "timestamp": 1659769949024,
     "user": {
      "displayName": "강사엄기흥",
      "userId": "12410353940363031053"
     },
     "user_tz": -540
    },
    "id": "wdbmnQHW_lki",
    "outputId": "505dfb19-57d1-442a-e087-85e80bdd0711"
   },
   "outputs": [
    {
     "name": "stdout",
     "output_type": "stream",
     "text": [
      "1/1 [==============================] - 0s 37ms/step\n",
      "[[0.88954335]]\n",
      "(1, 1)\n",
      "적응 확률: 88.954%\n",
      "시골형: 시골에 적응 할 수 있습니다.\n"
     ]
    }
   ],
   "source": [
    "yp = model.predict(x)\n",
    "print(yp)\n",
    "print(yp.shape)\n",
    "\n",
    "for i in range(len(x)):\n",
    "    # print('적응 확률:', yp[i][0] * 100, ' %')\n",
    "    print('적응 확률: {0:.3f}%'.format(yp[i][0] * 100))\n",
    "    \n",
    "    if yp[i][0] >= 0.5:    # 기존 사례를 참고하여 결정\n",
    "        print('시골형: 시골에 적응 할 수 있습니다.')\n",
    "    else:\n",
    "        print('도시형: 시골에 적응이 불가능합니다.')"
   ]
  },
  {
   "cell_type": "code",
   "execution_count": 23,
   "metadata": {
    "colab": {
     "base_uri": "https://localhost:8080/"
    },
    "executionInfo": {
     "elapsed": 1650,
     "status": "ok",
     "timestamp": 1659770063602,
     "user": {
      "displayName": "강사엄기흥",
      "userId": "12410353940363031053"
     },
     "user_tz": -540
    },
    "id": "X24Ojcej_4Xp",
    "outputId": "006c7062-243a-4b79-b45f-3d11aa66f778"
   },
   "outputs": [
    {
     "name": "stdout",
     "output_type": "stream",
     "text": [
      "1/1 [==============================] - 0s 15ms/step\n",
      "적응 확률: 88.954%\n",
      "시골형: 시골에 적응 할 수 있습니다.\n"
     ]
    }
   ],
   "source": [
    "# 모든 데이터를 통으로 입력받은 경우\n",
    "# 2,1,1,0,3,1,0\n",
    "# 2,1,1,1,3,1,0\n",
    "# 2,1,1,1,3,1,1\n",
    "# 2,1,1,1,6,1,1\n",
    "total = input('모든 데이터를 통으로 입력:')\n",
    "total_split = np.array(total.split(','), dtype=float)\n",
    "data = []\n",
    "data.append((total_split[0] - ms[0]) / stds[0])\n",
    "data.append((total_split[1] - ms[1]) / stds[1])\n",
    "data.append((total_split[2] - ms[2]) / stds[2])\n",
    "data.append((total_split[3] - ms[3]) / stds[3])\n",
    "data.append((total_split[4] - ms[4]) / stds[4])\n",
    "data.append((total_split[5] - ms[5]) / stds[5])\n",
    "\n",
    "x = np.array([\n",
    "             data,\n",
    "      ])\n",
    "\n",
    "yp = model.predict(x)\n",
    "\n",
    "for i in range(len(x)):\n",
    "    # print('적응 확률:', yp[i][0] * 100, ' %')\n",
    "    print('적응 확률: {0:.3f}%'.format(yp[i][0] * 100))\n",
    "    \n",
    "    if yp[i][0] >= 0.5:    # 기존 사례를 참고하여 결정\n",
    "        print('시골형: 시골에 적응 할 수 있습니다.')\n",
    "    else:\n",
    "        print('도시형: 시골에 적응이 불가능합니다.')"
   ]
  },
  {
   "cell_type": "code",
   "execution_count": null,
   "metadata": {
    "id": "Pwc4v9ntAUHH"
   },
   "outputs": [],
   "source": [
    "# y = aX + b에서 데이터를 읽고 오차가 가장 작은 a, b를 찾는 과정을\n",
    "# 머신러닝이라고함.\n",
    "# 데이터의 규칙(패턴)을 발견하고 최적의 a, b를 찾게됨.\n",
    "# 모델(a: 기울기, b: y 절편)이 발견되면 새로운 X를 대입하여 y를 예측 할 수 있음. \n",
    "\n",
    "# - 하나의 변수에 대한 것은 y = a1X1 + b 로 예측 가능\n",
    "# - 2개이상의 변수 y = a1*X1 + a2*X2 + b 로 해결 가능\n",
    "# - 3개이상의 변수 y = a1*X1 + a2*X2 + a3*X3 + b 로 해결 가능\n",
    "# - 관계형 데이터베이스의 변수(컬럼)는 보통 10 ~ 20개 이상임으로 \n",
    "# - 개발자가 직접 선형회귀 구현 어려움\n",
    "\n",
    "# 선형회귀를 이용한 도시형/귀촌/귀농에 성공한 사람들의 패턴을 파악하여 고객 진단\n",
    "# - 시골에 가족(친척)이 있는지 여부\n",
    "# - 시골에서 생활한 경험\n",
    "# - 자택 소유\n",
    "# - 토지\n",
    "# - 1년의 여행 횟수\n",
    "# - 음주 횟수\n",
    "# - 운전면허 소유 여부\n",
    "# - 차량 소유 여부\n",
    "# - 성격\n",
    "# - 성별\n",
    "# - 판정(도시형/주말 펜션/귀촌/귀농), class\n",
    "\n",
    "# 머신러닝은 선형회귀/분류 알고리즘을 이용하여 도시형인지 시골형인지 진단\n",
    "# 딥러닝 신경망(회귀)에 기반하여 도시형인지 시골형인지 진단"
   ]
  },
  {
   "cell_type": "code",
   "execution_count": 46,
   "metadata": {},
   "outputs": [
    {
     "name": "stdout",
     "output_type": "stream",
     "text": [
      "손실값: 0.0005887653096579015 /정확도: 100.0 %\n"
     ]
    }
   ],
   "source": [
    "test_loss, test_acc = model.evaluate(x_test, y_test, batch_size=1, verbose=0)\n",
    "print('손실값:', test_loss, '/정확도:', (test_acc*100), '%')"
   ]
  },
  {
   "cell_type": "code",
   "execution_count": 28,
   "metadata": {},
   "outputs": [],
   "source": [
    "model = load_model(\"Economic_auto_model\", custom_objects=ak.CUSTOM_OBJECTS)"
   ]
  },
  {
   "cell_type": "code",
   "execution_count": 31,
   "metadata": {},
   "outputs": [
    {
     "name": "stdout",
     "output_type": "stream",
     "text": [
      "1/1 [==============================] - 0s 28ms/step\n",
      "<class 'numpy.ndarray'>\n",
      "(10, 1)\n"
     ]
    }
   ],
   "source": [
    "y_test_p = model.predict(x_test) # 모델 사용\n",
    "print(type(y_test_p))\n",
    "print(y_test_p.shape) # (146, 1): 테스트 관측치(행)는 146개임, 예측값의 수 1"
   ]
  },
  {
   "cell_type": "code",
   "execution_count": 33,
   "metadata": {},
   "outputs": [
    {
     "name": "stdout",
     "output_type": "stream",
     "text": [
      " --> 호황\n",
      " --> 호황\n",
      " --> 불황\n",
      " --> 호황\n",
      " --> 호황\n",
      " --> 불황\n",
      " --> 불황\n",
      " --> 불황\n",
      " --> 호황\n",
      " --> 호황\n"
     ]
    }
   ],
   "source": [
    "for i in range(len(x_test)):\n",
    "    fmt = '실제값: {0:.0f}, 예측값: {1}'\n",
    "\n",
    "    # 임계값의 지정, 정확도를 참고하여 판단, 60%이상 합격: 0.6\n",
    "    if (y_test_p[i][0] >= 0.5):\n",
    "        print(' --> 호황')  # 1\n",
    "    else:\n",
    "        print(' --> 불황')  # 0"
   ]
  },
  {
   "cell_type": "code",
   "execution_count": 37,
   "metadata": {},
   "outputs": [
    {
     "name": "stdout",
     "output_type": "stream",
     "text": [
      "1/1 [==============================] - 0s 30ms/step\n"
     ]
    },
    {
     "data": {
      "text/plain": [
       "array([[ True],\n",
       "       [ True],\n",
       "       [False],\n",
       "       [ True],\n",
       "       [ True],\n",
       "       [False],\n",
       "       [False],\n",
       "       [False],\n",
       "       [ True],\n",
       "       [ True]])"
      ]
     },
     "execution_count": 37,
     "metadata": {},
     "output_type": "execute_result"
    }
   ],
   "source": [
    "model.predict(x_test) >= 0.5 # True: Good, False: Bad"
   ]
  },
  {
   "cell_type": "code",
   "execution_count": 38,
   "metadata": {},
   "outputs": [
    {
     "name": "stdout",
     "output_type": "stream",
     "text": [
      "1/1 [==============================] - 0s 33ms/step\n"
     ]
    },
    {
     "data": {
      "text/plain": [
       "array([[1],\n",
       "       [1],\n",
       "       [0],\n",
       "       [1],\n",
       "       [1],\n",
       "       [0],\n",
       "       [0],\n",
       "       [0],\n",
       "       [1],\n",
       "       [1]])"
      ]
     },
     "execution_count": 38,
     "metadata": {},
     "output_type": "execute_result"
    }
   ],
   "source": [
    "(model.predict(x_test) >= 0.5).astype(\"int32\") # True: 1, False: 0"
   ]
  },
  {
   "cell_type": "code",
   "execution_count": 39,
   "metadata": {},
   "outputs": [
    {
     "name": "stdout",
     "output_type": "stream",
     "text": [
      "(10, 6)\n",
      "1/1 [==============================] - 0s 31ms/step\n",
      "[[1]\n",
      " [1]\n",
      " [0]\n",
      " [1]\n",
      " [1]\n",
      " [0]\n",
      " [0]\n",
      " [0]\n",
      " [1]\n",
      " [1]]\n"
     ]
    }
   ],
   "source": [
    "# 결과 - 혼돈 행렬, # class 0우선으로 즉 오름차순으로 표가 생성\n",
    "print(x_test.shape)\n",
    "\n",
    "# 모델 테스트, Tensorflow 2.5까지 지원\n",
    "# y_test_pred = model.predict_classes(x_test)\n",
    "\n",
    "# 모델 테스트, Tensorflow 2.6 이상 지원\n",
    "y_test_pred = (model.predict(x_test) >= 0.5).astype(\"int32\")  # 모델 테스트,\n",
    "print(y_test_pred[:10])"
   ]
  },
  {
   "cell_type": "code",
   "execution_count": 41,
   "metadata": {},
   "outputs": [
    {
     "name": "stdout",
     "output_type": "stream",
     "text": [
      "<class 'tuple'>\n",
      "(array([1., 1., 0., 1., 1., 0., 0., 0., 1., 1.]), array([[1],\n",
      "       [1],\n",
      "       [0],\n",
      "       [1],\n",
      "       [1],\n",
      "       [0],\n",
      "       [0],\n",
      "       [0],\n",
      "       [1],\n",
      "       [1]]))\n"
     ]
    }
   ],
   "source": [
    "c_matrix = (y_test, y_test_pred) # 실제값, 예측값\n",
    "print(type(c_matrix))\n",
    "print(c_matrix)\n",
    "\n",
    "# [[0의 갯수        0이 아닌 갯수]\n",
    "#  [ 1이 아닌 갯수       1의 갯수]]\n",
    "\n",
    "# [[white wine 맞춘 갯수   white wine 틀린 갯수]\n",
    "#  [red wine 틀린 갯수     red wine 맞춘 갯수]]"
   ]
  },
  {
   "cell_type": "code",
   "execution_count": 45,
   "metadata": {},
   "outputs": [
    {
     "name": "stdout",
     "output_type": "stream",
     "text": [
      "1/1 [==============================] - 0s 25ms/step\n"
     ]
    },
    {
     "data": {
      "image/png": "[encoded data removed]",
      "text/plain": [
       "<Figure size 600x300 with 1 Axes>"
      ]
     },
     "metadata": {},
     "output_type": "display_data"
    }
   ],
   "source": [
    "from sklearn.metrics import roc_curve # roc 곡\n",
    "\n",
    "y_test_pred_probs = model.predict(x_test)\n",
    "# print(y_test_pred_probs)\n",
    "FPR, TPR, _ = roc_curve(y_test, y_test_pred_probs)\n",
    "plt.plot(FPR, TPR)\n",
    "plt.plot([0,1],[0,1],'--', color='black') #diagonal line\n",
    "plt.title('ROC Curve')\n",
    "plt.xlabel('False Positive Rate')\n",
    "plt.ylabel('True Positive Rate')\n",
    "plt.show()"
   ]
  },
  {
   "cell_type": "code",
   "execution_count": null,
   "metadata": {},
   "outputs": [],
   "source": []
  }
 ],
 "metadata": {
  "colab": {
   "authorship_tag": "ABX9TyOVnMYmzNX15GVhcX+WXTCF",
   "collapsed_sections": [],
   "mount_file_id": "1TKt2vlw85_LVUxWBFy8pgBjqFN5d6cBr",
   "name": "Country3.ipynb",
   "provenance": []
  },
  "kernelspec": {
   "display_name": "ai",
   "language": "python",
   "name": "ai"
  },
  "language_info": {
   "codemirror_mode": {
    "name": "ipython",
    "version": 3
   },
   "file_extension": ".py",
   "mimetype": "text/x-python",
   "name": "python",
   "nbconvert_exporter": "python",
   "pygments_lexer": "ipython3",
   "version": "3.9.16"
  }
 },
 "nbformat": 4,
 "nbformat_minor": 1
}
