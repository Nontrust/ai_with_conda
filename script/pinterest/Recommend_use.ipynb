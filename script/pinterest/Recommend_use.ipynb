{
 "cells": [
  {
   "cell_type": "markdown",
   "id": "aa8c9d66",
   "metadata": {},
   "source": [
    "##### 모델 테스트"
   ]
  },
  {
   "cell_type": "code",
   "execution_count": 1,
   "id": "894f7d69",
   "metadata": {},
   "outputs": [],
   "source": [
    "# 보안 문제로 ipynb 파일 open시마다 실행\n",
    "# from google.colab import drive\n",
    "# drive.mount('/content/drive') # 마운트 이름은 자유롭게 지정 가능"
   ]
  },
  {
   "cell_type": "code",
   "execution_count": 1,
   "id": "39896131",
   "metadata": {},
   "outputs": [],
   "source": [
    "import warnings\n",
    "warnings.filterwarnings(action='ignore')\n",
    "\n",
    "import os\n",
    "import time\n",
    "# import cv2\n",
    "import random\n",
    "\n",
    "import numpy as np\n",
    "import pandas as pd\n",
    "import seaborn as sb\n",
    "import tensorflow as tf\n",
    "\n",
    "from tensorflow.keras.models import Sequential  # class\n",
    "from tensorflow.keras.models import load_model  # model 사용\n",
    "from tensorflow.keras.layers import Dense       # 전결합\n",
    "from tensorflow.keras.layers import Dropout     # 특정 node를 사용안함.\n",
    "from tensorflow.keras.layers import Conv2D\n",
    "from tensorflow.keras.layers import MaxPooling2D\n",
    "from tensorflow.keras.layers import Flatten\n",
    "\n",
    "from tensorflow.keras.callbacks import EarlyStopping   # 학습 자동 중지\n",
    "from tensorflow.keras.callbacks import ModelCheckpoint # 우수한 학습 모델 파일 저장\n",
    "from tensorflow.keras import regularizers \n",
    "from tensorflow.keras.utils import to_categorical   # one-hot 엔코딩\n",
    "from tensorflow.keras.optimizers import Adam\n",
    "\n",
    "from tensorflow.keras.datasets import mnist\n",
    "\n",
    "from sklearn.preprocessing import LabelEncoder\n",
    "from sklearn.model_selection import train_test_split # 학습셋과 테스트셋의 분리 지원\n",
    "from sklearn.model_selection import StratifiedKFold  # K겹 교차 검증\n",
    "\n",
    "from PIL import Image\n",
    "\n",
    "import matplotlib.pyplot as plt\n",
    "from matplotlib import font_manager, rc\n",
    "\n",
    "import platform \n",
    "# Windows, Linux, Darwin\n",
    "if (platform.system() == 'Windows'):  \n",
    "    rc('font', family=font_manager.FontProperties(fname=\"C:/Windows/Fonts/malgun.ttf\").get_name())\n",
    "    path = '.' # Local\n",
    "else:    \n",
    "    rc('font', family='NanumBarunGothic')  # Ubuntu 18.04 기준 한글 처리\n",
    "    path = '/content/drive/My Drive/kd_ml/dnn/recommend_pinterest' # Colab\n",
    "\n",
    "os.chdir(path) # 기본 경로 설정\n",
    "\n",
    "plt.rcParams[\"font.size\"] = 12         # 글자 크기\n",
    "# plt.rcParams[\"figure.figsize\"] = (10, 4) # 10:4의 그래프 비율\n",
    "plt.rcParams['axes.unicode_minus'] = False  # minus 부호는 unicode 적용시 한글이 깨짐으로 설정\n",
    "\n",
    "%matplotlib inline\n",
    "\n",
    "# ---------------------------------------------------------------------\n",
    "# gpu 사용시 런타임에서 필요한 양만큼의 GPU 메모리를 할당후 자동 증가 처리\n",
    "# OS 메모리도 초기화됨.\n",
    "# ---------------------------------------------------------------------\n",
    "import tensorflow as tf\n",
    "\n",
    "gpus = tf.config.experimental.list_physical_devices('GPU')\n",
    "if gpus:\n",
    "    try:\n",
    "        tf.config.experimental.set_memory_growth(gpus[0], True)\n",
    "    except RuntimeError as e:\n",
    "        # 프로그램 시작시에 메모리 증가가 설정되어야만 합니다\n",
    "        print(e)\n",
    "    \n",
    "# ---------------------------------------------------------------------"
   ]
  },
  {
   "cell_type": "code",
   "execution_count": 2,
   "id": "dd56380a",
   "metadata": {},
   "outputs": [],
   "source": [
    "model = load_model('./Pinterest.h5')"
   ]
  },
  {
   "cell_type": "code",
   "execution_count": 3,
   "id": "fde5a51a",
   "metadata": {},
   "outputs": [
    {
     "name": "stdout",
     "output_type": "stream",
     "text": [
      "[[1 0 1 0 0 0 0 0 0 0 0 0 0 0 0 1 0 0 0 0 0 1 0 0 0 0 0 1 0 0 0 0 0 0 0 0\n",
      "  0 0 0 0 0 1 0 0 0 0 0 0 1]]\n"
     ]
    }
   ],
   "source": [
    "# X = [1,0,0,0,0,0,0,1,0,0,0,0,0,0,1,0,0,0,0,0,0,1,0,0,0,0,0,0,1,0,0,0,0,0,0,1,0,0,0,0,0,0,1,0,0,0,0,0,0] # 데이터 49개\n",
    "# X = [1,1,1,1,1,0,0,0,0,0,1,0,0,0,0,0,0,0,0,0,1,0,0,0,0,0,0,0,0,0,0,0,0,0,0,0,0,0,0,0,0,0,0,0,0,0,0,0,0] # 데이터 49개\n",
    "# Y= 0\n",
    "X = [1,0,1,0,0,0,0,0,0,0,0,0,0,0,0,1,0,0,0,0,0,1,0,0,0,0,0,1,0,0,0,0,0,0,0,0,0,0,0,0,0,1,0,0,0,0,0,0,1] # 데이터 49개\n",
    "Y= 6\n",
    "\n",
    "data = np.array([np.array(X)]) # 입력 데이터는 ndarray 타입의 2차원이어야함, 행 방향\n",
    "print(data) # comma가 없음으로 ndarray 형식임."
   ]
  },
  {
   "cell_type": "code",
   "execution_count": 4,
   "id": "9d530fcd",
   "metadata": {},
   "outputs": [
    {
     "name": "stdout",
     "output_type": "stream",
     "text": [
      "1/1 [==============================] - 0s 177ms/step\n",
      "[[0.00615903 0.13587026 0.10121808 0.00914996 0.01350394 0.01788427\n",
      "  0.71621436]]\n"
     ]
    }
   ],
   "source": [
    "p = model.predict(data)  # 모델 사용, 2차원 데이터 전달\n",
    "print(p)"
   ]
  },
  {
   "cell_type": "code",
   "execution_count": 5,
   "id": "2298294d",
   "metadata": {},
   "outputs": [
    {
     "name": "stdout",
     "output_type": "stream",
     "text": [
      "[[ 0.6159034 13.587027  10.121808   0.9149965  1.3503937  1.7884265\n",
      "  71.62144  ]]\n",
      "71.62144\n"
     ]
    }
   ],
   "source": [
    "print(p*100)\n",
    "print(np.max(p*100))"
   ]
  },
  {
   "cell_type": "code",
   "execution_count": 6,
   "id": "7dd36401",
   "metadata": {},
   "outputs": [
    {
     "name": "stdout",
     "output_type": "stream",
     "text": [
      "-> index:  6\n",
      "-> per:  71.621 %\n"
     ]
    }
   ],
   "source": [
    "index = np.argmax(p) \n",
    "print('-> index: ', index) # 0 ~ 4\n",
    "per = round(np.max(p) * 100, 3) # 백분률로 변경\n",
    "print('-> per: ', per, '%') "
   ]
  },
  {
   "cell_type": "code",
   "execution_count": 7,
   "id": "a28e4a2f",
   "metadata": {},
   "outputs": [
    {
     "name": "stdout",
     "output_type": "stream",
     "text": [
      "{'label': '캠핑', 'per': 71.621}\n"
     ]
    }
   ],
   "source": [
    "# 강아지, 고양이, 물고기, 자전거, 축제, 등산, 캠핑\n",
    "\n",
    "if index == 0:\n",
    "    label = '강아지'\n",
    "elif index == 1:\n",
    "    label = '고양이'\n",
    "elif index == 2:\n",
    "    label = '물고기'\n",
    "elif index == 3:\n",
    "    label = '자전거'\n",
    "elif index == 4:\n",
    "    label = '축제'\n",
    "elif index == 5:\n",
    "    label = '등산'\n",
    "elif index == 6:\n",
    "    label = '캠핑'\n",
    "    \n",
    "result = {}\n",
    "# 종류가 7개임으로 균등한 분할은 14%임으로 14% 초과시 추천, 14%를 넘어가는 값\n",
    "if per >= 20:\n",
    "    result = {\"label\": label, \"per\": per}\n",
    "else:\n",
    "    result = {\"label\": f'가장 인접한 추천: {label}', \"per\": per}\n",
    "\n",
    "print(result)"
   ]
  },
  {
   "cell_type": "code",
   "execution_count": 8,
   "id": "13688172",
   "metadata": {},
   "outputs": [],
   "source": [
    "# 함수 기반의 처리\n",
    "def recommend(X, Y):\n",
    "    data = np.array([np.array(X)]) # ndarray 타입의 2차원이어야함\n",
    "    p = model.predict(data)  # 모델 사용, 2차원 데이터 전달\n",
    "    \n",
    "    index = np.argmax(p) \n",
    "    print('-> index: ', index) # 0 ~ 4\n",
    "    per = round(np.max(p) * 100, 3)\n",
    "    print('-> per: ', per) \n",
    "\n",
    "    if index == 0:\n",
    "        label = '강아지'\n",
    "    elif index == 1:\n",
    "        label = '고양이'\n",
    "    elif index == 2:\n",
    "        label = '물고기'\n",
    "    elif index == 3:\n",
    "        label = '자전거'\n",
    "    elif index == 4:\n",
    "        label = '축제'\n",
    "    elif index == 5:\n",
    "        label = '등산'\n",
    "    elif index == 6:\n",
    "        label = '캠핑'\n",
    "\n",
    "    if np.max(p*100) > 15:\n",
    "        print(label + ' 추천 필요') \n",
    "    else:\n",
    "        print('구별이 확실하지 않아 추천이 어렵습니다.')\n",
    "        print(f'가장 인접한 추천: {label}')     "
   ]
  },
  {
   "cell_type": "code",
   "execution_count": 9,
   "id": "64afbdd2",
   "metadata": {},
   "outputs": [
    {
     "name": "stdout",
     "output_type": "stream",
     "text": [
      "1/1 [==============================] - 0s 60ms/step\n"
     ]
    },
    {
     "name": "stdout",
     "output_type": "stream",
     "text": [
      "-> index:  0\n",
      "-> per:  77.857\n",
      "강아지 추천 필요\n",
      "1/1 [==============================] - 0s 46ms/step\n",
      "-> index:  1\n",
      "-> per:  77.959\n",
      "고양이 추천 필요\n",
      "1/1 [==============================] - 0s 71ms/step\n",
      "-> index:  2\n",
      "-> per:  90.701\n",
      "물고기 추천 필요\n",
      "1/1 [==============================] - 0s 42ms/step\n",
      "-> index:  3\n",
      "-> per:  91.415\n",
      "자전거 추천 필요\n",
      "1/1 [==============================] - 0s 59ms/step\n",
      "-> index:  4\n",
      "-> per:  77.04\n",
      "축제 추천 필요\n",
      "1/1 [==============================] - 0s 28ms/step\n",
      "-> index:  0\n",
      "-> per:  33.646\n",
      "강아지 추천 필요\n",
      "1/1 [==============================] - 0s 34ms/step\n",
      "-> index:  6\n",
      "-> per:  71.621\n",
      "캠핑 추천 필요\n"
     ]
    }
   ],
   "source": [
    "# 강아지, 고양이, 물고기, 자전거, 축제, 등산, 캠핑\n",
    "# 정직한 선택\n",
    "recommend([1,0,0,0,0,0,0,1,0,0,0,0,0,0,1,0,0,0,0,0,0,1,0,0,0,0,0,0,1,0,0,0,0,0,0,1,0,0,0,0,0,0,1,0,0,0,0,0,0], 0)    \n",
    "recommend([0,1,0,0,0,0,0,0,1,0,0,0,0,0,0,1,0,0,0,0,0,0,1,0,0,0,0,0,0,1,0,0,0,0,0,0,1,0,0,0,0,0,0,1,0,0,0,0,0], 1)   \n",
    "recommend([0,0,1,0,0,0,0,0,0,1,0,0,0,0,0,0,1,0,0,0,0,0,0,1,0,0,0,0,0,0,1,0,0,0,0,0,0,1,0,0,0,0,0,0,1,0,0,0,0], 2)  \n",
    "recommend([0,0,0,1,0,0,0,0,0,0,1,0,0,0,0,0,0,1,0,0,0,0,0,0,1,0,0,0,0,0,0,1,0,0,0,0,0,0,1,0,0,0,0,0,0,1,0,0,0], 3) \n",
    "recommend([0,0,0,0,1,0,0,0,0,0,0,1,0,0,0,0,0,0,1,0,0,0,0,0,0,1,0,0,0,0,0,0,1,0,0,0,0,0,0,1,0,0,0,0,0,0,1,0,0], 4) \n",
    "# 강아지 4번, 카페 1번 선택\n",
    "recommend([1,0,0,0,0,0,0,1,0,0,0,0,0,0,1,0,0,0,0,0,0,1,0,0,0,0,0,0,0,0,1,0,0,0,0,0,0,1,0,0,0,0,0,0,1,0,0,0,0], 0) \n",
    "# 강아지 2번, 물고기 1번, 고양이 1번, 캠핑 3번 선택\n",
    "recommend([1,0,1,0,0,0,0,0,0,0,0,0,0,0,0,1,0,0,0,0,0,1,0,0,0,0,0,1,0,0,0,0,0,0,0,0,0,0,0,0,0,1,0,0,0,0,0,0,1], 6) "
   ]
  },
  {
   "cell_type": "code",
   "execution_count": null,
   "id": "ec54c8f8",
   "metadata": {},
   "outputs": [],
   "source": []
  },
  {
   "cell_type": "code",
   "execution_count": 10,
   "id": "76b741ad",
   "metadata": {},
   "outputs": [],
   "source": [
    "# 참고\n",
    "# 파일명을 전달받아 예측하는 함수\n",
    "# 강아지, 고양이, 물고기, 자전거, 축제, 등산, 캠핑\n",
    "def recommendation(fname):\n",
    "    data = np.loadtxt(fname, delimiter=',', skiprows=1, dtype=np.float64)\n",
    "    data = np.array([data]) # 2차원 배열로 변경, 행 방향\n",
    "    \n",
    "    p = model.predict(data)  # 2차원 데이터 전달하여 분류에 포함될 확률을 2차원 배열로 전달받음\n",
    "    \n",
    "    print(fname)\n",
    "    print(p[0]) # 예측된 확률 출력\n",
    "    \n",
    "    index = np.argmax(p[0]) # 가장 큰 값이 있는 배열의 index return\n",
    "    print('가장 큰 값이 있는 배열의 index:', index)\n",
    "    if index == 0:\n",
    "        label = '강아지'\n",
    "    elif index == 1:\n",
    "        label = '고양이'\n",
    "    elif index == 2:\n",
    "        label = '물고기'\n",
    "    elif index == 3:\n",
    "        label = '자전거'\n",
    "    elif index == 4:\n",
    "        label = '축제'\n",
    "    elif index == 5:\n",
    "        label = '등산'\n",
    "    elif index == 6:\n",
    "        label = '캠핑'\n",
    "        \n",
    "    return label"
   ]
  },
  {
   "cell_type": "code",
   "execution_count": null,
   "id": "6ed39ccf",
   "metadata": {},
   "outputs": [],
   "source": []
  },
  {
   "cell_type": "code",
   "execution_count": null,
   "id": "8a067113",
   "metadata": {},
   "outputs": [],
   "source": []
  },
  {
   "cell_type": "code",
   "execution_count": null,
   "id": "f37f0f07",
   "metadata": {},
   "outputs": [],
   "source": []
  }
 ],
 "metadata": {
  "kernelspec": {
   "display_name": "ai",
   "language": "python",
   "name": "python3"
  },
  "language_info": {
   "codemirror_mode": {
    "name": "ipython",
    "version": 3
   },
   "file_extension": ".py",
   "mimetype": "text/x-python",
   "name": "python",
   "nbconvert_exporter": "python",
   "pygments_lexer": "ipython3",
   "version": "3.10.13"
  }
 },
 "nbformat": 4,
 "nbformat_minor": 5
}
